{
  "nbformat": 4,
  "nbformat_minor": 0,
  "metadata": {
    "colab": {
      "provenance": [],
      "toc_visible": true,
      "authorship_tag": "ABX9TyNDP02luHIEAgs4kvZ9PSvw",
      "include_colab_link": true
    },
    "kernelspec": {
      "name": "python3",
      "display_name": "Python 3"
    },
    "language_info": {
      "name": "python"
    }
  },
  "cells": [
    {
      "cell_type": "markdown",
      "metadata": {
        "id": "view-in-github",
        "colab_type": "text"
      },
      "source": [
        "<a href=\"https://colab.research.google.com/github/simonefmr/teste/blob/main/ranking.ipynb\" target=\"_parent\"><img src=\"https://colab.research.google.com/assets/colab-badge.svg\" alt=\"Open In Colab\"/></a>"
      ]
    },
    {
      "cell_type": "code",
      "execution_count": 1,
      "metadata": {
        "id": "VrG0esgmfhru"
      },
      "outputs": [],
      "source": []
    },
    {
      "cell_type": "markdown",
      "source": [
        "https://www3.bcb.gov.br/ranking/historico.do"
      ],
      "metadata": {
        "id": "lD53zieVfj5y"
      }
    },
    {
      "cell_type": "markdown",
      "source": [
        "# **Pós Graduação Ciência de Dados - PUC Rio**\n",
        "# **MVP Sprint I: Análise de Dados e Boas Práticas**\n",
        "## Aluna: Simone de Fátima Marques Ramos"
      ],
      "metadata": {
        "id": "XYhwDEg6Pdzx"
      }
    },
    {
      "cell_type": "markdown",
      "source": [
        "## **1. Introdução**\n",
        "\n",
        "O  Ranking Bacen é formado a partir das reclamações do público registradas nos canais de atendimento do Banco Central (BC): internet, correspondência, presencialmente ou telefone (145). As demandas são analisadas de forma amostral pelo BC.\n",
        "\n",
        "Participam do Ranking: bancos (comerciais, múltiplos, cooperativos, de investimentos), sociedades de crédito, financiamento e investimento (SCFI), instituições de pagamento e administradoras de consórcio.\n",
        "\n",
        "São divulgados três arquivos, no formato CSV, com os seguintes detalhamentos:\n",
        "\n",
        "I- Bancos e financeiras - Reclamações e quantidades de clientes por instituição financeira:\n",
        "Apresenta as quantidades de reclamações e clientes, por instituição financeira, referentes ao mês\n",
        "selecionado.\n",
        "\n",
        "II- Bancos e financeiras - Irregularidades por instituição financeira:\n",
        "Apresenta as quantidades de reclamações, por irregularidade e instituição financeira, referentes ao\n",
        "mês selecionado.\n",
        "\n",
        "III- Bancos e financeiras - Tabela de irregularidades:\n",
        "Apresenta a tabela de irregularidades referente ao mês selecionado.\n",
        "\n",
        "Neste projeto, irei abordar apenas os dados das Irregularidades por instituição financeira (II)."
      ],
      "metadata": {
        "id": "XRImLIgNgLOZ"
      }
    },
    {
      "cell_type": "markdown",
      "source": [
        "### **1.1. Problema de aprendizado supervisionado ou não supervisionado e Hipóteses sobre o problema**\n",
        "\n",
        "Fazem parte do ranking as reclamações que foram analisadas e encerradas como:\n",
        "\n",
        "Reclamações reguladas procedentes: casos em que houve sinal de descumprimento de lei ou norma pela instituição financeira no período indicado.\n",
        "Reclamações reguladas – outras: casos em que não houve sinal de descumprimento de lei ou norma pela instituição financeira no período indicado (inclui as reclamações encerradas como improcedentes e não conclusivas).\n",
        "Reclamações não reguladas: casos que não são tratados por lei ou norma expedida pelo Banco Central e não são sujeitos a sua supervisão.\n",
        "Total de reclamações: total de reclamações reguladas procedentes, reclamações reguladas – outras e reclamações não reguladas.\n",
        "\n",
        "Neste projeto analizarei apenas o **primeiro trimestre de 2023**. Sem base histórica, trataremos como um problema de **aprendizado não supervisionado**, sendo o objetivo entender as possíveis relações entre os dados apresentados."
      ],
      "metadata": {
        "id": "pKxheYHrgLZ0"
      }
    },
    {
      "cell_type": "markdown",
      "source": [
        "### **1.2. Definição do Problema** \n",
        "\n",
        "\n",
        "O alto índice de reclamações ou reincidência das mesmas, podem levar o Banco Central a multar as instituições financeiras ou aplicar outras ferramentas de supervisão, como termos de compromisso, acordos de leniência, e medidas coercitivas e acautelatórias.\n",
        "\n",
        "As instituições são classificadas pela ordem decrescente do índice de reclamações, ou seja, da mais reclamada para a menos reclamada.\n",
        "\n",
        "As Reclamações reguladas – outras e as Reclamações não reguladas são divulgadas, porém não influenciam na posição das instituições no ranking.\n",
        "\n",
        "No processo de análise, pode ser identificada mais de uma irregularidade para uma mesma reclamação. Nesse caso, cada irregularidade conta como uma ocorrência para cálculo do Ranking de Reclamações.\n",
        "\n",
        "Tentar entender as origens das reclamações é essencial para monitoramento do correto funcionamento do sistema financeiro pelo Bacen, assim como pelas instituições financeiras, que buscam atendimento de qualidade e não desejam ter suas atividades limitadas ou restritas por força de sanção."
      ],
      "metadata": {
        "id": "oN9ciXUngeCX"
      }
    },
    {
      "cell_type": "markdown",
      "source": [
        "## **2. Importação de pacotes e bibliotecas**"
      ],
      "metadata": {
        "id": "qVyNwmyvgLc_"
      }
    },
    {
      "cell_type": "code",
      "source": [
        "# Importando bibliotecas e pacotes que serão utilizados na análise\n",
        "\n",
        "# Importação de Bibliotecas\n",
        "import pandas as pd\n",
        "import numpy as np\n",
        "import glob\n",
        "import seaborn as sns\n",
        "import statistics\n",
        "import matplotlib.pyplot as plt\n",
        "from matplotlib import cm\n",
        "import plotly.express as px\n",
        "from pandas import set_option\n",
        "from pandas.plotting import scatter_matrix\n",
        "\n",
        "from IPython.utils.sysinfo import encoding\n",
        "\n",
        "# para tratamento de data\n",
        "import datetime\n",
        "\n",
        "# para tratamento de missings\n",
        "import missingno as ms \n",
        "\n",
        "# Configuração para não exibir os warnings\n",
        "import warnings\n",
        "warnings.filterwarnings(\"ignore\")\n",
        "\n",
        "## transformações numéricas\n",
        "from sklearn.preprocessing import MinMaxScaler # para normalização\n",
        "from sklearn.preprocessing import StandardScaler # para padronização\n",
        "\n",
        "## transformações categóricas\n",
        "from sklearn.preprocessing import OneHotEncoder\n",
        "from sklearn.preprocessing import OrdinalEncoder"
      ],
      "metadata": {
        "id": "WqEg-Kbpz-UP"
      },
      "execution_count": 2,
      "outputs": []
    },
    {
      "cell_type": "code",
      "source": [
        "# Versões das Bibliotecas utilizadas\n",
        "\n",
        "pd_pd = pd.__version__\n",
        "np_np = np.__version__\n",
        "sns_sns = sns.__version__\n",
        "\n",
        "print('Versões utilizadas na análise:')\n",
        "print('Pandas = '+pd_pd)\n",
        "print('Numpy = '+np_np)\n",
        "print('Seaborn = '+sns_sns)"
      ],
      "metadata": {
        "colab": {
          "base_uri": "https://localhost:8080/"
        },
        "id": "AftRnx6N0GuH",
        "outputId": "ebefc46b-519e-4a73-f73e-8c68ee04de4b"
      },
      "execution_count": 8,
      "outputs": [
        {
          "output_type": "stream",
          "name": "stdout",
          "text": [
            "Versões utilizadas na análise:\n",
            "Pandas = 1.5.3\n",
            "Numpy = 1.22.4\n",
            "Seaborn = 0.12.2\n"
          ]
        }
      ]
    },
    {
      "cell_type": "markdown",
      "source": [
        "## **3. Carregamento dos dados**\n",
        "\n",
        "Os dados estão disponíveis no site do Banco Central e são publicados desde 2014. \n",
        "O relatório trimestral é divulgado no formato CSV, disponível para download, não sendo possível sua consulta direta no site. \n",
        "\n",
        "https://www3.bcb.gov.br/ranking/historico.do\n"
      ],
      "metadata": {
        "id": "Lloyb_80gLf8"
      }
    },
    {
      "cell_type": "code",
      "source": [
        "# carregamento do dataset através da url do github\n",
        "\n",
        "url = 'https://raw.githubusercontent.com/simonefmr/teste/main/ranking_irregularidades.csv'"
      ],
      "metadata": {
        "id": "pMbA_-Ee0KG5"
      },
      "execution_count": 9,
      "outputs": []
    },
    {
      "cell_type": "code",
      "source": [
        "\n",
        "df = pd.read_csv(url, sep=';', encoding='ISO-8859-1')\n",
        "df.head()"
      ],
      "metadata": {
        "colab": {
          "base_uri": "https://localhost:8080/",
          "height": 773
        },
        "id": "hchA9mjL1EEg",
        "outputId": "50ccb0fb-ccef-4f7c-ae8e-8be44a8c27b9"
      },
      "execution_count": 13,
      "outputs": [
        {
          "output_type": "execute_result",
          "data": {
            "text/plain": [
              "    Ano Trimestre                                          Categoria  \\\n",
              "0  2023        1º  Demais Bancos, Financeiras e Instituições de P...   \n",
              "1  2023        1º  Demais Bancos, Financeiras e Instituições de P...   \n",
              "2  2023        1º  Demais Bancos, Financeiras e Instituições de P...   \n",
              "3  2023        1º  Demais Bancos, Financeiras e Instituições de P...   \n",
              "4  2023        1º  Demais Bancos, Financeiras e Instituições de P...   \n",
              "\n",
              "           Tipo CNPJ IF     Instituição financeira  \\\n",
              "0  Conglomerado          ABC-BRASIL (conglomerado)   \n",
              "1  Conglomerado          ABC-BRASIL (conglomerado)   \n",
              "2  Conglomerado          ABC-BRASIL (conglomerado)   \n",
              "3  Conglomerado          ABC-BRASIL (conglomerado)   \n",
              "4  Conglomerado          ABC-BRASIL (conglomerado)   \n",
              "\n",
              "                                      Irregularidade  \\\n",
              "0  Cobrança irregular de tarifa relacionada a con...   \n",
              "1  Débito em conta não autorizado pelo cliente, o...   \n",
              "2  Insatisfação com a resposta recebida da instit...   \n",
              "3  Insatisfação com o atendimento prestado pelo S...   \n",
              "4  Irregularidades relacionadas ao acompanhamento...   \n",
              "\n",
              "   Quantidade de reclamações reguladas procedentes  \\\n",
              "0                                                0   \n",
              "1                                                0   \n",
              "2                                                0   \n",
              "3                                                0   \n",
              "4                                                1   \n",
              "\n",
              "   Quantidade de reclamações reguladas - outras  \\\n",
              "0                                             1   \n",
              "1                                             1   \n",
              "2                                             2   \n",
              "3                                             0   \n",
              "4                                             0   \n",
              "\n",
              "   Quantidade de reclamações não reguladas  Quantidade total de reclamações  \\\n",
              "0                                        0                                1   \n",
              "1                                        0                                1   \n",
              "2                                        0                                2   \n",
              "3                                        1                                1   \n",
              "4                                        0                                1   \n",
              "\n",
              "   Unnamed: 11  \n",
              "0          NaN  \n",
              "1          NaN  \n",
              "2          NaN  \n",
              "3          NaN  \n",
              "4          NaN  "
            ],
            "text/html": [
              "\n",
              "  <div id=\"df-06d6a10c-4313-4ab4-ae76-d4ea7f8531fa\">\n",
              "    <div class=\"colab-df-container\">\n",
              "      <div>\n",
              "<style scoped>\n",
              "    .dataframe tbody tr th:only-of-type {\n",
              "        vertical-align: middle;\n",
              "    }\n",
              "\n",
              "    .dataframe tbody tr th {\n",
              "        vertical-align: top;\n",
              "    }\n",
              "\n",
              "    .dataframe thead th {\n",
              "        text-align: right;\n",
              "    }\n",
              "</style>\n",
              "<table border=\"1\" class=\"dataframe\">\n",
              "  <thead>\n",
              "    <tr style=\"text-align: right;\">\n",
              "      <th></th>\n",
              "      <th>Ano</th>\n",
              "      <th>Trimestre</th>\n",
              "      <th>Categoria</th>\n",
              "      <th>Tipo</th>\n",
              "      <th>CNPJ IF</th>\n",
              "      <th>Instituição financeira</th>\n",
              "      <th>Irregularidade</th>\n",
              "      <th>Quantidade de reclamações reguladas procedentes</th>\n",
              "      <th>Quantidade de reclamações reguladas - outras</th>\n",
              "      <th>Quantidade de reclamações não reguladas</th>\n",
              "      <th>Quantidade total de reclamações</th>\n",
              "      <th>Unnamed: 11</th>\n",
              "    </tr>\n",
              "  </thead>\n",
              "  <tbody>\n",
              "    <tr>\n",
              "      <th>0</th>\n",
              "      <td>2023</td>\n",
              "      <td>1º</td>\n",
              "      <td>Demais Bancos, Financeiras e Instituições de P...</td>\n",
              "      <td>Conglomerado</td>\n",
              "      <td></td>\n",
              "      <td>ABC-BRASIL (conglomerado)</td>\n",
              "      <td>Cobrança irregular de tarifa relacionada a con...</td>\n",
              "      <td>0</td>\n",
              "      <td>1</td>\n",
              "      <td>0</td>\n",
              "      <td>1</td>\n",
              "      <td>NaN</td>\n",
              "    </tr>\n",
              "    <tr>\n",
              "      <th>1</th>\n",
              "      <td>2023</td>\n",
              "      <td>1º</td>\n",
              "      <td>Demais Bancos, Financeiras e Instituições de P...</td>\n",
              "      <td>Conglomerado</td>\n",
              "      <td></td>\n",
              "      <td>ABC-BRASIL (conglomerado)</td>\n",
              "      <td>Débito em conta não autorizado pelo cliente, o...</td>\n",
              "      <td>0</td>\n",
              "      <td>1</td>\n",
              "      <td>0</td>\n",
              "      <td>1</td>\n",
              "      <td>NaN</td>\n",
              "    </tr>\n",
              "    <tr>\n",
              "      <th>2</th>\n",
              "      <td>2023</td>\n",
              "      <td>1º</td>\n",
              "      <td>Demais Bancos, Financeiras e Instituições de P...</td>\n",
              "      <td>Conglomerado</td>\n",
              "      <td></td>\n",
              "      <td>ABC-BRASIL (conglomerado)</td>\n",
              "      <td>Insatisfação com a resposta recebida da instit...</td>\n",
              "      <td>0</td>\n",
              "      <td>2</td>\n",
              "      <td>0</td>\n",
              "      <td>2</td>\n",
              "      <td>NaN</td>\n",
              "    </tr>\n",
              "    <tr>\n",
              "      <th>3</th>\n",
              "      <td>2023</td>\n",
              "      <td>1º</td>\n",
              "      <td>Demais Bancos, Financeiras e Instituições de P...</td>\n",
              "      <td>Conglomerado</td>\n",
              "      <td></td>\n",
              "      <td>ABC-BRASIL (conglomerado)</td>\n",
              "      <td>Insatisfação com o atendimento prestado pelo S...</td>\n",
              "      <td>0</td>\n",
              "      <td>0</td>\n",
              "      <td>1</td>\n",
              "      <td>1</td>\n",
              "      <td>NaN</td>\n",
              "    </tr>\n",
              "    <tr>\n",
              "      <th>4</th>\n",
              "      <td>2023</td>\n",
              "      <td>1º</td>\n",
              "      <td>Demais Bancos, Financeiras e Instituições de P...</td>\n",
              "      <td>Conglomerado</td>\n",
              "      <td></td>\n",
              "      <td>ABC-BRASIL (conglomerado)</td>\n",
              "      <td>Irregularidades relacionadas ao acompanhamento...</td>\n",
              "      <td>1</td>\n",
              "      <td>0</td>\n",
              "      <td>0</td>\n",
              "      <td>1</td>\n",
              "      <td>NaN</td>\n",
              "    </tr>\n",
              "  </tbody>\n",
              "</table>\n",
              "</div>\n",
              "      <button class=\"colab-df-convert\" onclick=\"convertToInteractive('df-06d6a10c-4313-4ab4-ae76-d4ea7f8531fa')\"\n",
              "              title=\"Convert this dataframe to an interactive table.\"\n",
              "              style=\"display:none;\">\n",
              "        \n",
              "  <svg xmlns=\"http://www.w3.org/2000/svg\" height=\"24px\"viewBox=\"0 0 24 24\"\n",
              "       width=\"24px\">\n",
              "    <path d=\"M0 0h24v24H0V0z\" fill=\"none\"/>\n",
              "    <path d=\"M18.56 5.44l.94 2.06.94-2.06 2.06-.94-2.06-.94-.94-2.06-.94 2.06-2.06.94zm-11 1L8.5 8.5l.94-2.06 2.06-.94-2.06-.94L8.5 2.5l-.94 2.06-2.06.94zm10 10l.94 2.06.94-2.06 2.06-.94-2.06-.94-.94-2.06-.94 2.06-2.06.94z\"/><path d=\"M17.41 7.96l-1.37-1.37c-.4-.4-.92-.59-1.43-.59-.52 0-1.04.2-1.43.59L10.3 9.45l-7.72 7.72c-.78.78-.78 2.05 0 2.83L4 21.41c.39.39.9.59 1.41.59.51 0 1.02-.2 1.41-.59l7.78-7.78 2.81-2.81c.8-.78.8-2.07 0-2.86zM5.41 20L4 18.59l7.72-7.72 1.47 1.35L5.41 20z\"/>\n",
              "  </svg>\n",
              "      </button>\n",
              "      \n",
              "  <style>\n",
              "    .colab-df-container {\n",
              "      display:flex;\n",
              "      flex-wrap:wrap;\n",
              "      gap: 12px;\n",
              "    }\n",
              "\n",
              "    .colab-df-convert {\n",
              "      background-color: #E8F0FE;\n",
              "      border: none;\n",
              "      border-radius: 50%;\n",
              "      cursor: pointer;\n",
              "      display: none;\n",
              "      fill: #1967D2;\n",
              "      height: 32px;\n",
              "      padding: 0 0 0 0;\n",
              "      width: 32px;\n",
              "    }\n",
              "\n",
              "    .colab-df-convert:hover {\n",
              "      background-color: #E2EBFA;\n",
              "      box-shadow: 0px 1px 2px rgba(60, 64, 67, 0.3), 0px 1px 3px 1px rgba(60, 64, 67, 0.15);\n",
              "      fill: #174EA6;\n",
              "    }\n",
              "\n",
              "    [theme=dark] .colab-df-convert {\n",
              "      background-color: #3B4455;\n",
              "      fill: #D2E3FC;\n",
              "    }\n",
              "\n",
              "    [theme=dark] .colab-df-convert:hover {\n",
              "      background-color: #434B5C;\n",
              "      box-shadow: 0px 1px 3px 1px rgba(0, 0, 0, 0.15);\n",
              "      filter: drop-shadow(0px 1px 2px rgba(0, 0, 0, 0.3));\n",
              "      fill: #FFFFFF;\n",
              "    }\n",
              "  </style>\n",
              "\n",
              "      <script>\n",
              "        const buttonEl =\n",
              "          document.querySelector('#df-06d6a10c-4313-4ab4-ae76-d4ea7f8531fa button.colab-df-convert');\n",
              "        buttonEl.style.display =\n",
              "          google.colab.kernel.accessAllowed ? 'block' : 'none';\n",
              "\n",
              "        async function convertToInteractive(key) {\n",
              "          const element = document.querySelector('#df-06d6a10c-4313-4ab4-ae76-d4ea7f8531fa');\n",
              "          const dataTable =\n",
              "            await google.colab.kernel.invokeFunction('convertToInteractive',\n",
              "                                                     [key], {});\n",
              "          if (!dataTable) return;\n",
              "\n",
              "          const docLinkHtml = 'Like what you see? Visit the ' +\n",
              "            '<a target=\"_blank\" href=https://colab.research.google.com/notebooks/data_table.ipynb>data table notebook</a>'\n",
              "            + ' to learn more about interactive tables.';\n",
              "          element.innerHTML = '';\n",
              "          dataTable['output_type'] = 'display_data';\n",
              "          await google.colab.output.renderOutput(dataTable, element);\n",
              "          const docLink = document.createElement('div');\n",
              "          docLink.innerHTML = docLinkHtml;\n",
              "          element.appendChild(docLink);\n",
              "        }\n",
              "      </script>\n",
              "    </div>\n",
              "  </div>\n",
              "  "
            ]
          },
          "metadata": {},
          "execution_count": 13
        }
      ]
    },
    {
      "cell_type": "markdown",
      "source": [
        "### **3.1. Condições ou restrições impostas para selecionar os dados**\n",
        "\n",
        "Não houve dificuldade de carregamento dos dados. Foi preciso ajustar o separador e o encoding para correta leitura do dataset."
      ],
      "metadata": {
        "id": "gNLm-mExgLi8"
      }
    },
    {
      "cell_type": "markdown",
      "source": [
        "### **3.2. Definição dos atributos**"
      ],
      "metadata": {
        "id": "8adPE9XCgLl8"
      }
    },
    {
      "cell_type": "code",
      "source": [
        "# labels dos atributos do dataset\n",
        "\n",
        "df.columns"
      ],
      "metadata": {
        "colab": {
          "base_uri": "https://localhost:8080/"
        },
        "id": "1Gr7d7ij3jhr",
        "outputId": "0a805dda-ddd6-4c1c-8896-3278f109cf66"
      },
      "execution_count": 14,
      "outputs": [
        {
          "output_type": "execute_result",
          "data": {
            "text/plain": [
              "Index(['Ano', 'Trimestre', 'Categoria', 'Tipo', 'CNPJ IF',\n",
              "       'Instituição financeira', 'Irregularidade',\n",
              "       'Quantidade de reclamações reguladas procedentes',\n",
              "       'Quantidade de reclamações reguladas - outras',\n",
              "       'Quantidade de reclamações não reguladas',\n",
              "       'Quantidade total de reclamações', 'Unnamed: 11'],\n",
              "      dtype='object')"
            ]
          },
          "metadata": {},
          "execution_count": 14
        }
      ]
    },
    {
      "cell_type": "markdown",
      "source": [
        "**Definindo o que cada atributo representa**\n",
        "\n",
        "**Ano:** Ano de referência.\n",
        "\n",
        "**Trimestre:** Trimestre de referência\n",
        "\n",
        "**Categoria Listagem do ranking:** Mais de dois milhões de clientes ou Menos de dois milhões de clientes.\n",
        "\n",
        "**Tipo:** Tipo de instituição: Bancos e financeiras ou\n",
        "Conglomerados.\n",
        "\n",
        "**CNPJ IF:** CNPJ da instituição financeira (para bancos e financeiras). *Para conglomerados, esse campo não é preenchido.*\n",
        "\n",
        "**Instituição financeira:** Nome da instituição financeira ou do conglomerado.\n",
        "\n",
        "**Irregularidade:** Nome da irregularidade.\n",
        "\n",
        "**Quantidade de reclamações reguladas procedentes:** Quantidade de reclamações reguladas procedentes,\n",
        "associadas à irregularidade, encerradas no mês de\n",
        "referência.\n",
        "\n",
        "**Quantidade de reclamações reguladas - outras:** Quantidade de reclamações reguladas – outras, associadas à irregularidade, encerradas no mês de referência (Não procedentes).\n",
        "\n",
        "**Quantidade de reclamações não reguladas:** Quantidade de reclamações não reguladas, associadas à irregularidade, encerradas no mês de referência (Irreguladas são reclamações que não tem base regulamentada ou que sua regulamentação não é de competência do Banco Central.\n",
        "\n",
        "**Quantidade total de reclamações:** Quantidade total de reclamações, associadas à irregularidade, encerradas no mês de referência."
      ],
      "metadata": {
        "id": "KI60qLUq3oN3"
      }
    },
    {
      "cell_type": "markdown",
      "source": [
        "## **4. Análise de Dados**"
      ],
      "metadata": {
        "id": "8cqbAd99gLoz"
      }
    },
    {
      "cell_type": "markdown",
      "source": [
        "### **4.1. Limpeza preliminar dos dados**"
      ],
      "metadata": {
        "id": "d4hN4DZhgLr0"
      }
    },
    {
      "cell_type": "markdown",
      "source": [
        "### **4.2. Análise Descritiva**"
      ],
      "metadata": {
        "id": "mHsvgEtRgLuf"
      }
    },
    {
      "cell_type": "markdown",
      "source": [
        "### **4.3. Tratamento de Missings**"
      ],
      "metadata": {
        "id": "fIeQK_h1gLx2"
      }
    },
    {
      "cell_type": "markdown",
      "source": [
        "## **5. Visualizações**"
      ],
      "metadata": {
        "id": "6n8WAyRSgL1B"
      }
    },
    {
      "cell_type": "markdown",
      "source": [
        "## **6. Pré-processamento**"
      ],
      "metadata": {
        "id": "o1sqADfBooZp"
      }
    },
    {
      "cell_type": "markdown",
      "source": [
        "### **6.1. Divisão do dataset em conjunto de treino e teste**"
      ],
      "metadata": {
        "id": "RDtCcwqCoocI"
      }
    },
    {
      "cell_type": "markdown",
      "source": [
        "### **6.2. Normalização e padronização**"
      ],
      "metadata": {
        "id": "J0VOUICEow-h"
      }
    },
    {
      "cell_type": "markdown",
      "source": [
        "### **6.3. Transformações categóricas**"
      ],
      "metadata": {
        "id": "D3JrtcvBoxcS"
      }
    },
    {
      "cell_type": "markdown",
      "source": [
        "## Conclusão**"
      ],
      "metadata": {
        "id": "HZ8qBE-jpJQ5"
      }
    }
  ]
}