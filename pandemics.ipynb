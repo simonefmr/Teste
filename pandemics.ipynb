{
  "nbformat": 4,
  "nbformat_minor": 0,
  "metadata": {
    "colab": {
      "provenance": [],
      "toc_visible": true,
      "authorship_tag": "ABX9TyP7H4C1zWWkfFiHklsSENXb",
      "include_colab_link": true
    },
    "kernelspec": {
      "name": "python3",
      "display_name": "Python 3"
    },
    "language_info": {
      "name": "python"
    }
  },
  "cells": [
    {
      "cell_type": "markdown",
      "metadata": {
        "id": "view-in-github",
        "colab_type": "text"
      },
      "source": [
        "<a href=\"https://colab.research.google.com/github/simonefmr/teste/blob/main/C%C3%B3pia_de_Pandemics_MVP_2704.ipynb\" target=\"_parent\"><img src=\"https://colab.research.google.com/assets/colab-badge.svg\" alt=\"Open In Colab\"/></a>"
      ]
    },
    {
      "cell_type": "markdown",
      "source": [
        "# **MVP Pós Data Science - PUC Rio - Sprint 1**\n",
        "### Simone de Fátima Marques Ramos"
      ],
      "metadata": {
        "id": "Bi7j-duQrteO"
      }
    },
    {
      "cell_type": "markdown",
      "source": [
        "## **1. Introdução**\n",
        "\n",
        "Desde o final de 2019, a palavra “pandemia” se tornou comum no nosso dia a dia. Uma enfermidade se torna uma pandemia quando atinge níveis mundiais, ou seja, quando determinado agente se dissemina em diversos países ou continentes, usualmente afetando um grande número de pessoas. \n",
        "\n",
        "Quem define quando uma doença se torna esse tipo de ameaça global é a Organização Mundial da Saúde (OMS). Uma pandemia pode começar como um surto ou epidemia; ou seja, surtos, pandemias e epidemias têm a mesma origem - o que muda é a escala da disseminação da doença.\n"
      ],
      "metadata": {
        "id": "sb02DFU17Dk5"
      }
    },
    {
      "cell_type": "markdown",
      "source": [
        "### **1.1. Problema de aprendizado supervisionado ou não supervisionado e Hipóteses sobre o problema**\n",
        "\n",
        "Regularmente nosso mundo é impactado por novas doenças e estas se espalham afetando nossa saúde que, em alguns casos, podendo levar à morte. \n",
        "\n",
        "Apesar dos registros históricos, existem diversos fatores que podem contribuir para o avanço de novas doenças, como a taxa de transmissão, a mortalidade, o período de incubação etc. Cada doença e suas variantes se comportam de forma diferente.\n",
        "\n",
        "Levando isto em consideração, não temos um resultado de saída esperado, considerando um problema de aprendizado não supervisionado. Tentarei explorar os dados e aprender os possíveis relacionamentos entre eles.\n"
      ],
      "metadata": {
        "id": "CFgw8bVEf776"
      }
    },
    {
      "cell_type": "markdown",
      "source": [
        "### **1.2. Definição do Problema** \n",
        "\n",
        "O objetivo deste projeto é analisar as epidemias já registradas, tentar identificar se existe um padrão entre elas como tempo de duração, número de morte, intervalo entre pandemias e regiões afetadas."
      ],
      "metadata": {
        "id": "s_lzeuenf8Bg"
      }
    },
    {
      "cell_type": "markdown",
      "source": [
        "## **2. Importação de pacotes e bibliotecas**"
      ],
      "metadata": {
        "id": "vkjqnrks6zYb"
      }
    },
    {
      "cell_type": "code",
      "source": [
        "# Importando bibliotecas e pacotes que serão utilizados na análise\n",
        "\n",
        "# Importação de Bibliotecas\n",
        "import pandas as pd\n",
        "import numpy as np\n",
        "import glob\n",
        "import seaborn as sns\n",
        "import statistics\n",
        "import matplotlib.pyplot as plt\n",
        "from matplotlib import cm\n",
        "from pandas import set_option\n",
        "from pandas.plotting import scatter_matrix\n",
        "\n",
        "# para tratamento de data\n",
        "import datetime\n",
        "\n",
        "# para tratamento de missings\n",
        "import missingno as ms \n",
        "\n",
        "# Configuração para não exibir os warnings\n",
        "import warnings\n",
        "warnings.filterwarnings(\"ignore\")\n",
        "\n",
        "## transformações numéricas\n",
        "from sklearn.preprocessing import MinMaxScaler # para normalização\n",
        "from sklearn.preprocessing import StandardScaler # para padronização\n",
        "\n",
        "## transformações categóricas\n",
        "from sklearn.preprocessing import OneHotEncoder\n",
        "from sklearn.preprocessing import OrdinalEncoder"
      ],
      "metadata": {
        "id": "rZTTlPC-6yuz"
      },
      "execution_count": null,
      "outputs": []
    },
    {
      "cell_type": "code",
      "source": [
        "# Versões das Bibliotecas utilizadas\n",
        "\n",
        "pd_pd = pd.__version__\n",
        "np_np = np.__version__\n",
        "sns_sns = sns.__version__\n",
        "\n",
        "print('Versões utilizadas na análise:')\n",
        "print('Pandas = '+pd_pd)\n",
        "print('Numpy = '+np_np)\n",
        "print('Seaborn = '+sns_sns)"
      ],
      "metadata": {
        "colab": {
          "base_uri": "https://localhost:8080/"
        },
        "id": "mYC-emvBQ0dD",
        "outputId": "a4041fca-b88f-4713-856c-2c33d9168548"
      },
      "execution_count": null,
      "outputs": [
        {
          "output_type": "stream",
          "name": "stdout",
          "text": [
            "Versões utilizadas na análise:\n",
            "Pandas = 1.5.3\n",
            "Numpy = 1.22.4\n",
            "Seaborn = 0.12.2\n"
          ]
        }
      ]
    },
    {
      "cell_type": "markdown",
      "source": [
        "## **3. Carregamento dos dados**\n"
      ],
      "metadata": {
        "id": "1qqba7XOV-eY"
      }
    },
    {
      "cell_type": "markdown",
      "source": [
        "### **3.1. Condições ou restrições impostas para selecionar os dados**\n",
        "\n",
        "O dataset \"Pandemic Details of World\" foi obtidos através do diretório público Kaggle, e traz detalhes de todas as pandemias relatadas no mundo nos quatro mil anos. \n",
        "Até o momento não houve restrições ao acesso ou à seleção dos dados."
      ],
      "metadata": {
        "id": "tuoMAzphYCyv"
      }
    },
    {
      "cell_type": "markdown",
      "source": [
        "### **3.2 Definição dos atributos**\n",
        "\n",
        "**'Epidemics/pandemics'**: Nome dado à pandemia\n",
        "\n",
        "**'Disease'**: Doença identificada como causadora da pandemia\n",
        "\n",
        "**'Death toll'**: número de mortos apurado\n",
        "\n",
        "**'Date'**: Período que ocorreu a pandemia\n",
        "\n",
        "**'Location'**: Área onde foi apurada a ocorrência da epidemia ou pandemia"
      ],
      "metadata": {
        "id": "87jqyYs4ZU3b"
      }
    },
    {
      "cell_type": "code",
      "source": [
        "# Importar os dados do dataset que foram carregados no diretório do GitHub\n",
        "\n",
        "# url a importar\n",
        "\n",
        "url = 'https://raw.githubusercontent.com/simonefmr/Pandemic/main/pandemic_details_of_world.csv'"
      ],
      "metadata": {
        "id": "xU8NmYaxJVTt"
      },
      "execution_count": null,
      "outputs": []
    },
    {
      "cell_type": "code",
      "source": [
        "# Ler o dataset\n",
        "\n",
        "pandemic = pd.read_csv(url)"
      ],
      "metadata": {
        "id": "tl5zSLSFJm63"
      },
      "execution_count": null,
      "outputs": []
    },
    {
      "cell_type": "code",
      "source": [
        "# Identificando as colunas do dataset\n",
        "\n",
        "pandemic.columns"
      ],
      "metadata": {
        "colab": {
          "base_uri": "https://localhost:8080/"
        },
        "id": "0o7hzYsXMSxK",
        "outputId": "8224caf0-efde-49d4-80dd-0ea1e1bff34f"
      },
      "execution_count": null,
      "outputs": [
        {
          "output_type": "execute_result",
          "data": {
            "text/plain": [
              "Index(['Unnamed: 0', 'Epidemics/pandemics', 'Disease', 'Death toll', 'Date',\n",
              "       'Location'],\n",
              "      dtype='object')"
            ]
          },
          "metadata": {},
          "execution_count": 5
        }
      ]
    },
    {
      "cell_type": "markdown",
      "source": [
        "## **4. Análise de Dados**"
      ],
      "metadata": {
        "id": "GEZrTpXz79Me"
      }
    },
    {
      "cell_type": "code",
      "source": [
        "# Exlcuir a coluna unnamed (se refere à um indexador e não agrega informação)\n",
        "\n",
        "pandemic.drop('Unnamed: 0',axis=1,inplace=True)"
      ],
      "metadata": {
        "id": "txJmTXBtMplY"
      },
      "execution_count": null,
      "outputs": []
    },
    {
      "cell_type": "code",
      "source": [
        "# Definindo o nome das colunas\n",
        "\n",
        "colunas = ['Epidemics/pandemics', 'Disease', 'Death toll', 'Date', 'Location']"
      ],
      "metadata": {
        "id": "g9ZQlkoDMxSV"
      },
      "execution_count": null,
      "outputs": []
    },
    {
      "cell_type": "code",
      "source": [
        "# Verificando dimensões do dataset (quantos atributos e instâncias existem)\n",
        "\n",
        "pandemic.shape"
      ],
      "metadata": {
        "colab": {
          "base_uri": "https://localhost:8080/"
        },
        "id": "emkylI1eJc14",
        "outputId": "d467e7e9-f8bf-43d5-b994-c083e59025f9"
      },
      "execution_count": null,
      "outputs": [
        {
          "output_type": "execute_result",
          "data": {
            "text/plain": [
              "(272, 5)"
            ]
          },
          "metadata": {},
          "execution_count": 8
        }
      ]
    },
    {
      "cell_type": "code",
      "source": [
        "# Visualizando as primeiras linhas verificamos que os dados foram carregados corretamente\n",
        "\n",
        "pandemic.head()"
      ],
      "metadata": {
        "colab": {
          "base_uri": "https://localhost:8080/",
          "height": 206
        },
        "id": "jPdb7l2wJ4eX",
        "outputId": "e8e18552-4d0a-4214-a83a-50e0b7dba06a"
      },
      "execution_count": null,
      "outputs": [
        {
          "output_type": "execute_result",
          "data": {
            "text/plain": [
              "   Epidemics/pandemics           Disease                           Death toll  \\\n",
              "0          Black Death    Bubonic plague                       75–200 million   \n",
              "1          Spanish flu  Influenza A/H1N1                       17–100 million   \n",
              "2  Plague of Justinian    Bubonic plague                       15–100 million   \n",
              "3    HIV/AIDS epidemic          HIV/AIDS             40.1 million (as of 2021   \n",
              "4    COVID-19 pandemic          COVID-19  7–28.3 million (as of December 2022   \n",
              "\n",
              "              Date                               Location  \n",
              "0        1346–1353         Europe, Asia, and North Africa  \n",
              "1        1918–1920                              Worldwide  \n",
              "2          541–549  North Africa, Europe and Western Asia  \n",
              "3     1981–present                              Worldwide  \n",
              "4  2019[c]–present                              Worldwide  "
            ],
            "text/html": [
              "\n",
              "  <div id=\"df-913e64cf-a71c-4414-afc1-5b9a260e436d\">\n",
              "    <div class=\"colab-df-container\">\n",
              "      <div>\n",
              "<style scoped>\n",
              "    .dataframe tbody tr th:only-of-type {\n",
              "        vertical-align: middle;\n",
              "    }\n",
              "\n",
              "    .dataframe tbody tr th {\n",
              "        vertical-align: top;\n",
              "    }\n",
              "\n",
              "    .dataframe thead th {\n",
              "        text-align: right;\n",
              "    }\n",
              "</style>\n",
              "<table border=\"1\" class=\"dataframe\">\n",
              "  <thead>\n",
              "    <tr style=\"text-align: right;\">\n",
              "      <th></th>\n",
              "      <th>Epidemics/pandemics</th>\n",
              "      <th>Disease</th>\n",
              "      <th>Death toll</th>\n",
              "      <th>Date</th>\n",
              "      <th>Location</th>\n",
              "    </tr>\n",
              "  </thead>\n",
              "  <tbody>\n",
              "    <tr>\n",
              "      <th>0</th>\n",
              "      <td>Black Death</td>\n",
              "      <td>Bubonic plague</td>\n",
              "      <td>75–200 million</td>\n",
              "      <td>1346–1353</td>\n",
              "      <td>Europe, Asia, and North Africa</td>\n",
              "    </tr>\n",
              "    <tr>\n",
              "      <th>1</th>\n",
              "      <td>Spanish flu</td>\n",
              "      <td>Influenza A/H1N1</td>\n",
              "      <td>17–100 million</td>\n",
              "      <td>1918–1920</td>\n",
              "      <td>Worldwide</td>\n",
              "    </tr>\n",
              "    <tr>\n",
              "      <th>2</th>\n",
              "      <td>Plague of Justinian</td>\n",
              "      <td>Bubonic plague</td>\n",
              "      <td>15–100 million</td>\n",
              "      <td>541–549</td>\n",
              "      <td>North Africa, Europe and Western Asia</td>\n",
              "    </tr>\n",
              "    <tr>\n",
              "      <th>3</th>\n",
              "      <td>HIV/AIDS epidemic</td>\n",
              "      <td>HIV/AIDS</td>\n",
              "      <td>40.1 million (as of 2021</td>\n",
              "      <td>1981–present</td>\n",
              "      <td>Worldwide</td>\n",
              "    </tr>\n",
              "    <tr>\n",
              "      <th>4</th>\n",
              "      <td>COVID-19 pandemic</td>\n",
              "      <td>COVID-19</td>\n",
              "      <td>7–28.3 million (as of December 2022</td>\n",
              "      <td>2019[c]–present</td>\n",
              "      <td>Worldwide</td>\n",
              "    </tr>\n",
              "  </tbody>\n",
              "</table>\n",
              "</div>\n",
              "      <button class=\"colab-df-convert\" onclick=\"convertToInteractive('df-913e64cf-a71c-4414-afc1-5b9a260e436d')\"\n",
              "              title=\"Convert this dataframe to an interactive table.\"\n",
              "              style=\"display:none;\">\n",
              "        \n",
              "  <svg xmlns=\"http://www.w3.org/2000/svg\" height=\"24px\"viewBox=\"0 0 24 24\"\n",
              "       width=\"24px\">\n",
              "    <path d=\"M0 0h24v24H0V0z\" fill=\"none\"/>\n",
              "    <path d=\"M18.56 5.44l.94 2.06.94-2.06 2.06-.94-2.06-.94-.94-2.06-.94 2.06-2.06.94zm-11 1L8.5 8.5l.94-2.06 2.06-.94-2.06-.94L8.5 2.5l-.94 2.06-2.06.94zm10 10l.94 2.06.94-2.06 2.06-.94-2.06-.94-.94-2.06-.94 2.06-2.06.94z\"/><path d=\"M17.41 7.96l-1.37-1.37c-.4-.4-.92-.59-1.43-.59-.52 0-1.04.2-1.43.59L10.3 9.45l-7.72 7.72c-.78.78-.78 2.05 0 2.83L4 21.41c.39.39.9.59 1.41.59.51 0 1.02-.2 1.41-.59l7.78-7.78 2.81-2.81c.8-.78.8-2.07 0-2.86zM5.41 20L4 18.59l7.72-7.72 1.47 1.35L5.41 20z\"/>\n",
              "  </svg>\n",
              "      </button>\n",
              "      \n",
              "  <style>\n",
              "    .colab-df-container {\n",
              "      display:flex;\n",
              "      flex-wrap:wrap;\n",
              "      gap: 12px;\n",
              "    }\n",
              "\n",
              "    .colab-df-convert {\n",
              "      background-color: #E8F0FE;\n",
              "      border: none;\n",
              "      border-radius: 50%;\n",
              "      cursor: pointer;\n",
              "      display: none;\n",
              "      fill: #1967D2;\n",
              "      height: 32px;\n",
              "      padding: 0 0 0 0;\n",
              "      width: 32px;\n",
              "    }\n",
              "\n",
              "    .colab-df-convert:hover {\n",
              "      background-color: #E2EBFA;\n",
              "      box-shadow: 0px 1px 2px rgba(60, 64, 67, 0.3), 0px 1px 3px 1px rgba(60, 64, 67, 0.15);\n",
              "      fill: #174EA6;\n",
              "    }\n",
              "\n",
              "    [theme=dark] .colab-df-convert {\n",
              "      background-color: #3B4455;\n",
              "      fill: #D2E3FC;\n",
              "    }\n",
              "\n",
              "    [theme=dark] .colab-df-convert:hover {\n",
              "      background-color: #434B5C;\n",
              "      box-shadow: 0px 1px 3px 1px rgba(0, 0, 0, 0.15);\n",
              "      filter: drop-shadow(0px 1px 2px rgba(0, 0, 0, 0.3));\n",
              "      fill: #FFFFFF;\n",
              "    }\n",
              "  </style>\n",
              "\n",
              "      <script>\n",
              "        const buttonEl =\n",
              "          document.querySelector('#df-913e64cf-a71c-4414-afc1-5b9a260e436d button.colab-df-convert');\n",
              "        buttonEl.style.display =\n",
              "          google.colab.kernel.accessAllowed ? 'block' : 'none';\n",
              "\n",
              "        async function convertToInteractive(key) {\n",
              "          const element = document.querySelector('#df-913e64cf-a71c-4414-afc1-5b9a260e436d');\n",
              "          const dataTable =\n",
              "            await google.colab.kernel.invokeFunction('convertToInteractive',\n",
              "                                                     [key], {});\n",
              "          if (!dataTable) return;\n",
              "\n",
              "          const docLinkHtml = 'Like what you see? Visit the ' +\n",
              "            '<a target=\"_blank\" href=https://colab.research.google.com/notebooks/data_table.ipynb>data table notebook</a>'\n",
              "            + ' to learn more about interactive tables.';\n",
              "          element.innerHTML = '';\n",
              "          dataTable['output_type'] = 'display_data';\n",
              "          await google.colab.output.renderOutput(dataTable, element);\n",
              "          const docLink = document.createElement('div');\n",
              "          docLink.innerHTML = docLinkHtml;\n",
              "          element.appendChild(docLink);\n",
              "        }\n",
              "      </script>\n",
              "    </div>\n",
              "  </div>\n",
              "  "
            ]
          },
          "metadata": {},
          "execution_count": 9
        }
      ]
    },
    {
      "cell_type": "code",
      "source": [
        "pandemic.tail()"
      ],
      "metadata": {
        "colab": {
          "base_uri": "https://localhost:8080/",
          "height": 206
        },
        "id": "l2UdYV04KF-E",
        "outputId": "e1bc0a64-248b-463b-a447-1bb5ce99bdac"
      },
      "execution_count": null,
      "outputs": [
        {
          "output_type": "execute_result",
          "data": {
            "text/plain": [
              "                              Epidemics/pandemics  \\\n",
              "267            2020 Nigeria yellow fever epidemic   \n",
              "268              2021 India black fungus epidemic   \n",
              "269  2022 hepatitis of unknown origin in children   \n",
              "270                  2022–2023 monkeypox outbreak   \n",
              "271                    2022 Uganda Ebola outbreak   \n",
              "\n",
              "                                               Disease  \\\n",
              "267                                       Yellow fever   \n",
              "268                  Black fungus (COVID-19 condition)   \n",
              "269  Hepatitis by Adenovirus variant AF41 (Unconfir...   \n",
              "270                                    Monkeypox virus   \n",
              "271                                   Sudan ebolavirus   \n",
              "\n",
              "                       Death toll          Date   Location  \n",
              "267  296 (as of 31 December 2020)          2020    Nigeria  \n",
              "268                          4332     2021-2022      India  \n",
              "269                            18     2021–2022  Worldwide  \n",
              "270                           280  2022–present  Worldwide  \n",
              "271                            77     2022–2023     Uganda  "
            ],
            "text/html": [
              "\n",
              "  <div id=\"df-b7f68d27-20d0-4905-a6ab-d16661f9dcad\">\n",
              "    <div class=\"colab-df-container\">\n",
              "      <div>\n",
              "<style scoped>\n",
              "    .dataframe tbody tr th:only-of-type {\n",
              "        vertical-align: middle;\n",
              "    }\n",
              "\n",
              "    .dataframe tbody tr th {\n",
              "        vertical-align: top;\n",
              "    }\n",
              "\n",
              "    .dataframe thead th {\n",
              "        text-align: right;\n",
              "    }\n",
              "</style>\n",
              "<table border=\"1\" class=\"dataframe\">\n",
              "  <thead>\n",
              "    <tr style=\"text-align: right;\">\n",
              "      <th></th>\n",
              "      <th>Epidemics/pandemics</th>\n",
              "      <th>Disease</th>\n",
              "      <th>Death toll</th>\n",
              "      <th>Date</th>\n",
              "      <th>Location</th>\n",
              "    </tr>\n",
              "  </thead>\n",
              "  <tbody>\n",
              "    <tr>\n",
              "      <th>267</th>\n",
              "      <td>2020 Nigeria yellow fever epidemic</td>\n",
              "      <td>Yellow fever</td>\n",
              "      <td>296 (as of 31 December 2020)</td>\n",
              "      <td>2020</td>\n",
              "      <td>Nigeria</td>\n",
              "    </tr>\n",
              "    <tr>\n",
              "      <th>268</th>\n",
              "      <td>2021 India black fungus epidemic</td>\n",
              "      <td>Black fungus (COVID-19 condition)</td>\n",
              "      <td>4332</td>\n",
              "      <td>2021-2022</td>\n",
              "      <td>India</td>\n",
              "    </tr>\n",
              "    <tr>\n",
              "      <th>269</th>\n",
              "      <td>2022 hepatitis of unknown origin in children</td>\n",
              "      <td>Hepatitis by Adenovirus variant AF41 (Unconfir...</td>\n",
              "      <td>18</td>\n",
              "      <td>2021–2022</td>\n",
              "      <td>Worldwide</td>\n",
              "    </tr>\n",
              "    <tr>\n",
              "      <th>270</th>\n",
              "      <td>2022–2023 monkeypox outbreak</td>\n",
              "      <td>Monkeypox virus</td>\n",
              "      <td>280</td>\n",
              "      <td>2022–present</td>\n",
              "      <td>Worldwide</td>\n",
              "    </tr>\n",
              "    <tr>\n",
              "      <th>271</th>\n",
              "      <td>2022 Uganda Ebola outbreak</td>\n",
              "      <td>Sudan ebolavirus</td>\n",
              "      <td>77</td>\n",
              "      <td>2022–2023</td>\n",
              "      <td>Uganda</td>\n",
              "    </tr>\n",
              "  </tbody>\n",
              "</table>\n",
              "</div>\n",
              "      <button class=\"colab-df-convert\" onclick=\"convertToInteractive('df-b7f68d27-20d0-4905-a6ab-d16661f9dcad')\"\n",
              "              title=\"Convert this dataframe to an interactive table.\"\n",
              "              style=\"display:none;\">\n",
              "        \n",
              "  <svg xmlns=\"http://www.w3.org/2000/svg\" height=\"24px\"viewBox=\"0 0 24 24\"\n",
              "       width=\"24px\">\n",
              "    <path d=\"M0 0h24v24H0V0z\" fill=\"none\"/>\n",
              "    <path d=\"M18.56 5.44l.94 2.06.94-2.06 2.06-.94-2.06-.94-.94-2.06-.94 2.06-2.06.94zm-11 1L8.5 8.5l.94-2.06 2.06-.94-2.06-.94L8.5 2.5l-.94 2.06-2.06.94zm10 10l.94 2.06.94-2.06 2.06-.94-2.06-.94-.94-2.06-.94 2.06-2.06.94z\"/><path d=\"M17.41 7.96l-1.37-1.37c-.4-.4-.92-.59-1.43-.59-.52 0-1.04.2-1.43.59L10.3 9.45l-7.72 7.72c-.78.78-.78 2.05 0 2.83L4 21.41c.39.39.9.59 1.41.59.51 0 1.02-.2 1.41-.59l7.78-7.78 2.81-2.81c.8-.78.8-2.07 0-2.86zM5.41 20L4 18.59l7.72-7.72 1.47 1.35L5.41 20z\"/>\n",
              "  </svg>\n",
              "      </button>\n",
              "      \n",
              "  <style>\n",
              "    .colab-df-container {\n",
              "      display:flex;\n",
              "      flex-wrap:wrap;\n",
              "      gap: 12px;\n",
              "    }\n",
              "\n",
              "    .colab-df-convert {\n",
              "      background-color: #E8F0FE;\n",
              "      border: none;\n",
              "      border-radius: 50%;\n",
              "      cursor: pointer;\n",
              "      display: none;\n",
              "      fill: #1967D2;\n",
              "      height: 32px;\n",
              "      padding: 0 0 0 0;\n",
              "      width: 32px;\n",
              "    }\n",
              "\n",
              "    .colab-df-convert:hover {\n",
              "      background-color: #E2EBFA;\n",
              "      box-shadow: 0px 1px 2px rgba(60, 64, 67, 0.3), 0px 1px 3px 1px rgba(60, 64, 67, 0.15);\n",
              "      fill: #174EA6;\n",
              "    }\n",
              "\n",
              "    [theme=dark] .colab-df-convert {\n",
              "      background-color: #3B4455;\n",
              "      fill: #D2E3FC;\n",
              "    }\n",
              "\n",
              "    [theme=dark] .colab-df-convert:hover {\n",
              "      background-color: #434B5C;\n",
              "      box-shadow: 0px 1px 3px 1px rgba(0, 0, 0, 0.15);\n",
              "      filter: drop-shadow(0px 1px 2px rgba(0, 0, 0, 0.3));\n",
              "      fill: #FFFFFF;\n",
              "    }\n",
              "  </style>\n",
              "\n",
              "      <script>\n",
              "        const buttonEl =\n",
              "          document.querySelector('#df-b7f68d27-20d0-4905-a6ab-d16661f9dcad button.colab-df-convert');\n",
              "        buttonEl.style.display =\n",
              "          google.colab.kernel.accessAllowed ? 'block' : 'none';\n",
              "\n",
              "        async function convertToInteractive(key) {\n",
              "          const element = document.querySelector('#df-b7f68d27-20d0-4905-a6ab-d16661f9dcad');\n",
              "          const dataTable =\n",
              "            await google.colab.kernel.invokeFunction('convertToInteractive',\n",
              "                                                     [key], {});\n",
              "          if (!dataTable) return;\n",
              "\n",
              "          const docLinkHtml = 'Like what you see? Visit the ' +\n",
              "            '<a target=\"_blank\" href=https://colab.research.google.com/notebooks/data_table.ipynb>data table notebook</a>'\n",
              "            + ' to learn more about interactive tables.';\n",
              "          element.innerHTML = '';\n",
              "          dataTable['output_type'] = 'display_data';\n",
              "          await google.colab.output.renderOutput(dataTable, element);\n",
              "          const docLink = document.createElement('div');\n",
              "          docLink.innerHTML = docLinkHtml;\n",
              "          element.appendChild(docLink);\n",
              "        }\n",
              "      </script>\n",
              "    </div>\n",
              "  </div>\n",
              "  "
            ]
          },
          "metadata": {},
          "execution_count": 10
        }
      ]
    },
    {
      "cell_type": "markdown",
      "source": [
        "Tipos de dados do dataset"
      ],
      "metadata": {
        "id": "Qi3_RpoVFmDI"
      }
    },
    {
      "cell_type": "code",
      "source": [
        "# Resumo estatístico dos atributos com valor numérico.\n",
        "\n",
        "pandemic.describe()"
      ],
      "metadata": {
        "colab": {
          "base_uri": "https://localhost:8080/",
          "height": 175
        },
        "id": "zfqjnemtiK06",
        "outputId": "821aa454-8530-4ec3-f620-b8c089c348d3"
      },
      "execution_count": null,
      "outputs": [
        {
          "output_type": "execute_result",
          "data": {
            "text/plain": [
              "                Epidemics/pandemics         Disease Death toll  Date  \\\n",
              "count                           272             272        272   272   \n",
              "unique                          262              77        202   219   \n",
              "top     Cocoliztli epidemic of 1576  Bubonic plague    Unknown  2006   \n",
              "freq                              2              57         31     6   \n",
              "\n",
              "         Location  \n",
              "count         272  \n",
              "unique        167  \n",
              "top     Worldwide  \n",
              "freq           27  "
            ],
            "text/html": [
              "\n",
              "  <div id=\"df-c74a4ba2-b18a-410f-ac40-8ffeedec3688\">\n",
              "    <div class=\"colab-df-container\">\n",
              "      <div>\n",
              "<style scoped>\n",
              "    .dataframe tbody tr th:only-of-type {\n",
              "        vertical-align: middle;\n",
              "    }\n",
              "\n",
              "    .dataframe tbody tr th {\n",
              "        vertical-align: top;\n",
              "    }\n",
              "\n",
              "    .dataframe thead th {\n",
              "        text-align: right;\n",
              "    }\n",
              "</style>\n",
              "<table border=\"1\" class=\"dataframe\">\n",
              "  <thead>\n",
              "    <tr style=\"text-align: right;\">\n",
              "      <th></th>\n",
              "      <th>Epidemics/pandemics</th>\n",
              "      <th>Disease</th>\n",
              "      <th>Death toll</th>\n",
              "      <th>Date</th>\n",
              "      <th>Location</th>\n",
              "    </tr>\n",
              "  </thead>\n",
              "  <tbody>\n",
              "    <tr>\n",
              "      <th>count</th>\n",
              "      <td>272</td>\n",
              "      <td>272</td>\n",
              "      <td>272</td>\n",
              "      <td>272</td>\n",
              "      <td>272</td>\n",
              "    </tr>\n",
              "    <tr>\n",
              "      <th>unique</th>\n",
              "      <td>262</td>\n",
              "      <td>77</td>\n",
              "      <td>202</td>\n",
              "      <td>219</td>\n",
              "      <td>167</td>\n",
              "    </tr>\n",
              "    <tr>\n",
              "      <th>top</th>\n",
              "      <td>Cocoliztli epidemic of 1576</td>\n",
              "      <td>Bubonic plague</td>\n",
              "      <td>Unknown</td>\n",
              "      <td>2006</td>\n",
              "      <td>Worldwide</td>\n",
              "    </tr>\n",
              "    <tr>\n",
              "      <th>freq</th>\n",
              "      <td>2</td>\n",
              "      <td>57</td>\n",
              "      <td>31</td>\n",
              "      <td>6</td>\n",
              "      <td>27</td>\n",
              "    </tr>\n",
              "  </tbody>\n",
              "</table>\n",
              "</div>\n",
              "      <button class=\"colab-df-convert\" onclick=\"convertToInteractive('df-c74a4ba2-b18a-410f-ac40-8ffeedec3688')\"\n",
              "              title=\"Convert this dataframe to an interactive table.\"\n",
              "              style=\"display:none;\">\n",
              "        \n",
              "  <svg xmlns=\"http://www.w3.org/2000/svg\" height=\"24px\"viewBox=\"0 0 24 24\"\n",
              "       width=\"24px\">\n",
              "    <path d=\"M0 0h24v24H0V0z\" fill=\"none\"/>\n",
              "    <path d=\"M18.56 5.44l.94 2.06.94-2.06 2.06-.94-2.06-.94-.94-2.06-.94 2.06-2.06.94zm-11 1L8.5 8.5l.94-2.06 2.06-.94-2.06-.94L8.5 2.5l-.94 2.06-2.06.94zm10 10l.94 2.06.94-2.06 2.06-.94-2.06-.94-.94-2.06-.94 2.06-2.06.94z\"/><path d=\"M17.41 7.96l-1.37-1.37c-.4-.4-.92-.59-1.43-.59-.52 0-1.04.2-1.43.59L10.3 9.45l-7.72 7.72c-.78.78-.78 2.05 0 2.83L4 21.41c.39.39.9.59 1.41.59.51 0 1.02-.2 1.41-.59l7.78-7.78 2.81-2.81c.8-.78.8-2.07 0-2.86zM5.41 20L4 18.59l7.72-7.72 1.47 1.35L5.41 20z\"/>\n",
              "  </svg>\n",
              "      </button>\n",
              "      \n",
              "  <style>\n",
              "    .colab-df-container {\n",
              "      display:flex;\n",
              "      flex-wrap:wrap;\n",
              "      gap: 12px;\n",
              "    }\n",
              "\n",
              "    .colab-df-convert {\n",
              "      background-color: #E8F0FE;\n",
              "      border: none;\n",
              "      border-radius: 50%;\n",
              "      cursor: pointer;\n",
              "      display: none;\n",
              "      fill: #1967D2;\n",
              "      height: 32px;\n",
              "      padding: 0 0 0 0;\n",
              "      width: 32px;\n",
              "    }\n",
              "\n",
              "    .colab-df-convert:hover {\n",
              "      background-color: #E2EBFA;\n",
              "      box-shadow: 0px 1px 2px rgba(60, 64, 67, 0.3), 0px 1px 3px 1px rgba(60, 64, 67, 0.15);\n",
              "      fill: #174EA6;\n",
              "    }\n",
              "\n",
              "    [theme=dark] .colab-df-convert {\n",
              "      background-color: #3B4455;\n",
              "      fill: #D2E3FC;\n",
              "    }\n",
              "\n",
              "    [theme=dark] .colab-df-convert:hover {\n",
              "      background-color: #434B5C;\n",
              "      box-shadow: 0px 1px 3px 1px rgba(0, 0, 0, 0.15);\n",
              "      filter: drop-shadow(0px 1px 2px rgba(0, 0, 0, 0.3));\n",
              "      fill: #FFFFFF;\n",
              "    }\n",
              "  </style>\n",
              "\n",
              "      <script>\n",
              "        const buttonEl =\n",
              "          document.querySelector('#df-c74a4ba2-b18a-410f-ac40-8ffeedec3688 button.colab-df-convert');\n",
              "        buttonEl.style.display =\n",
              "          google.colab.kernel.accessAllowed ? 'block' : 'none';\n",
              "\n",
              "        async function convertToInteractive(key) {\n",
              "          const element = document.querySelector('#df-c74a4ba2-b18a-410f-ac40-8ffeedec3688');\n",
              "          const dataTable =\n",
              "            await google.colab.kernel.invokeFunction('convertToInteractive',\n",
              "                                                     [key], {});\n",
              "          if (!dataTable) return;\n",
              "\n",
              "          const docLinkHtml = 'Like what you see? Visit the ' +\n",
              "            '<a target=\"_blank\" href=https://colab.research.google.com/notebooks/data_table.ipynb>data table notebook</a>'\n",
              "            + ' to learn more about interactive tables.';\n",
              "          element.innerHTML = '';\n",
              "          dataTable['output_type'] = 'display_data';\n",
              "          await google.colab.output.renderOutput(dataTable, element);\n",
              "          const docLink = document.createElement('div');\n",
              "          docLink.innerHTML = docLinkHtml;\n",
              "          element.appendChild(docLink);\n",
              "        }\n",
              "      </script>\n",
              "    </div>\n",
              "  </div>\n",
              "  "
            ]
          },
          "metadata": {},
          "execution_count": 11
        }
      ]
    },
    {
      "cell_type": "markdown",
      "source": [
        "**Observação:**\n",
        "\n",
        "Neste ponto, o retorno não foi o esperado. Não foram apresentados valores numéricos dos dados que quero analisar. Foi gerado apenas contagens da quantidade de instâncias."
      ],
      "metadata": {
        "id": "bZwzxegIiTtp"
      }
    },
    {
      "cell_type": "markdown",
      "source": [
        "### **4.1 Limpeza dos dados**"
      ],
      "metadata": {
        "id": "HJbiOK2feiCI"
      }
    },
    {
      "cell_type": "code",
      "source": [
        "# Verificando valores não-nulos e tipo de classe\n",
        "\n",
        "pandemic.info()"
      ],
      "metadata": {
        "colab": {
          "base_uri": "https://localhost:8080/"
        },
        "id": "VxK2ScbxKJCq",
        "outputId": "826cc54c-d3c1-4ad1-f8eb-c7315418a5f6"
      },
      "execution_count": null,
      "outputs": [
        {
          "output_type": "stream",
          "name": "stdout",
          "text": [
            "<class 'pandas.core.frame.DataFrame'>\n",
            "RangeIndex: 272 entries, 0 to 271\n",
            "Data columns (total 5 columns):\n",
            " #   Column               Non-Null Count  Dtype \n",
            "---  ------               --------------  ----- \n",
            " 0   Epidemics/pandemics  272 non-null    object\n",
            " 1   Disease              272 non-null    object\n",
            " 2   Death toll           272 non-null    object\n",
            " 3   Date                 272 non-null    object\n",
            " 4   Location             272 non-null    object\n",
            "dtypes: object(5)\n",
            "memory usage: 10.8+ KB\n"
          ]
        }
      ]
    },
    {
      "cell_type": "code",
      "source": [
        "# Verificando quantos objetos distintos são apresentados\n",
        "\n",
        "pandemic.nunique()"
      ],
      "metadata": {
        "colab": {
          "base_uri": "https://localhost:8080/"
        },
        "id": "G5KCvOJ2P1WW",
        "outputId": "686cfa22-1e06-4b20-b294-fa151608a043"
      },
      "execution_count": null,
      "outputs": [
        {
          "output_type": "execute_result",
          "data": {
            "text/plain": [
              "Epidemics/pandemics    262\n",
              "Disease                 77\n",
              "Death toll             202\n",
              "Date                   219\n",
              "Location               167\n",
              "dtype: int64"
            ]
          },
          "metadata": {},
          "execution_count": 13
        }
      ]
    },
    {
      "cell_type": "code",
      "source": [
        "# Segmentando os anos\n",
        "# Desta forma, vou dividir o ano inicial e o ano final da epidemia para poder\n",
        "# realizar outros tipos de cálculo\n",
        "\n",
        "pandemic[['First Year', 'Last Year']]=pandemic.Date.str.split((\"-\") and (\"–\"),expand=True)\n",
        "pandemic"
      ],
      "metadata": {
        "colab": {
          "base_uri": "https://localhost:8080/",
          "height": 424
        },
        "id": "A1fgnlf_Ovl8",
        "outputId": "ba0de388-7fe0-46ab-f342-bc6c9d25c6f5"
      },
      "execution_count": null,
      "outputs": [
        {
          "output_type": "execute_result",
          "data": {
            "text/plain": [
              "                              Epidemics/pandemics  \\\n",
              "0                                     Black Death   \n",
              "1                                     Spanish flu   \n",
              "2                             Plague of Justinian   \n",
              "3                               HIV/AIDS epidemic   \n",
              "4                               COVID-19 pandemic   \n",
              "..                                            ...   \n",
              "267            2020 Nigeria yellow fever epidemic   \n",
              "268              2021 India black fungus epidemic   \n",
              "269  2022 hepatitis of unknown origin in children   \n",
              "270                  2022–2023 monkeypox outbreak   \n",
              "271                    2022 Uganda Ebola outbreak   \n",
              "\n",
              "                                               Disease  \\\n",
              "0                                       Bubonic plague   \n",
              "1                                     Influenza A/H1N1   \n",
              "2                                       Bubonic plague   \n",
              "3                                             HIV/AIDS   \n",
              "4                                             COVID-19   \n",
              "..                                                 ...   \n",
              "267                                       Yellow fever   \n",
              "268                  Black fungus (COVID-19 condition)   \n",
              "269  Hepatitis by Adenovirus variant AF41 (Unconfir...   \n",
              "270                                    Monkeypox virus   \n",
              "271                                   Sudan ebolavirus   \n",
              "\n",
              "                              Death toll             Date  \\\n",
              "0                         75–200 million        1346–1353   \n",
              "1                         17–100 million        1918–1920   \n",
              "2                         15–100 million          541–549   \n",
              "3               40.1 million (as of 2021     1981–present   \n",
              "4    7–28.3 million (as of December 2022  2019[c]–present   \n",
              "..                                   ...              ...   \n",
              "267         296 (as of 31 December 2020)             2020   \n",
              "268                                 4332        2021-2022   \n",
              "269                                   18        2021–2022   \n",
              "270                                  280     2022–present   \n",
              "271                                   77        2022–2023   \n",
              "\n",
              "                                  Location First Year Last Year  \n",
              "0           Europe, Asia, and North Africa       1346      1353  \n",
              "1                                Worldwide       1918      1920  \n",
              "2    North Africa, Europe and Western Asia        541       549  \n",
              "3                                Worldwide       1981   present  \n",
              "4                                Worldwide    2019[c]   present  \n",
              "..                                     ...        ...       ...  \n",
              "267                                Nigeria       2020      None  \n",
              "268                                  India  2021-2022      None  \n",
              "269                              Worldwide       2021      2022  \n",
              "270                              Worldwide       2022   present  \n",
              "271                                 Uganda       2022      2023  \n",
              "\n",
              "[272 rows x 7 columns]"
            ],
            "text/html": [
              "\n",
              "  <div id=\"df-903003e2-73e0-4412-aebe-85ab0dce8fe3\">\n",
              "    <div class=\"colab-df-container\">\n",
              "      <div>\n",
              "<style scoped>\n",
              "    .dataframe tbody tr th:only-of-type {\n",
              "        vertical-align: middle;\n",
              "    }\n",
              "\n",
              "    .dataframe tbody tr th {\n",
              "        vertical-align: top;\n",
              "    }\n",
              "\n",
              "    .dataframe thead th {\n",
              "        text-align: right;\n",
              "    }\n",
              "</style>\n",
              "<table border=\"1\" class=\"dataframe\">\n",
              "  <thead>\n",
              "    <tr style=\"text-align: right;\">\n",
              "      <th></th>\n",
              "      <th>Epidemics/pandemics</th>\n",
              "      <th>Disease</th>\n",
              "      <th>Death toll</th>\n",
              "      <th>Date</th>\n",
              "      <th>Location</th>\n",
              "      <th>First Year</th>\n",
              "      <th>Last Year</th>\n",
              "    </tr>\n",
              "  </thead>\n",
              "  <tbody>\n",
              "    <tr>\n",
              "      <th>0</th>\n",
              "      <td>Black Death</td>\n",
              "      <td>Bubonic plague</td>\n",
              "      <td>75–200 million</td>\n",
              "      <td>1346–1353</td>\n",
              "      <td>Europe, Asia, and North Africa</td>\n",
              "      <td>1346</td>\n",
              "      <td>1353</td>\n",
              "    </tr>\n",
              "    <tr>\n",
              "      <th>1</th>\n",
              "      <td>Spanish flu</td>\n",
              "      <td>Influenza A/H1N1</td>\n",
              "      <td>17–100 million</td>\n",
              "      <td>1918–1920</td>\n",
              "      <td>Worldwide</td>\n",
              "      <td>1918</td>\n",
              "      <td>1920</td>\n",
              "    </tr>\n",
              "    <tr>\n",
              "      <th>2</th>\n",
              "      <td>Plague of Justinian</td>\n",
              "      <td>Bubonic plague</td>\n",
              "      <td>15–100 million</td>\n",
              "      <td>541–549</td>\n",
              "      <td>North Africa, Europe and Western Asia</td>\n",
              "      <td>541</td>\n",
              "      <td>549</td>\n",
              "    </tr>\n",
              "    <tr>\n",
              "      <th>3</th>\n",
              "      <td>HIV/AIDS epidemic</td>\n",
              "      <td>HIV/AIDS</td>\n",
              "      <td>40.1 million (as of 2021</td>\n",
              "      <td>1981–present</td>\n",
              "      <td>Worldwide</td>\n",
              "      <td>1981</td>\n",
              "      <td>present</td>\n",
              "    </tr>\n",
              "    <tr>\n",
              "      <th>4</th>\n",
              "      <td>COVID-19 pandemic</td>\n",
              "      <td>COVID-19</td>\n",
              "      <td>7–28.3 million (as of December 2022</td>\n",
              "      <td>2019[c]–present</td>\n",
              "      <td>Worldwide</td>\n",
              "      <td>2019[c]</td>\n",
              "      <td>present</td>\n",
              "    </tr>\n",
              "    <tr>\n",
              "      <th>...</th>\n",
              "      <td>...</td>\n",
              "      <td>...</td>\n",
              "      <td>...</td>\n",
              "      <td>...</td>\n",
              "      <td>...</td>\n",
              "      <td>...</td>\n",
              "      <td>...</td>\n",
              "    </tr>\n",
              "    <tr>\n",
              "      <th>267</th>\n",
              "      <td>2020 Nigeria yellow fever epidemic</td>\n",
              "      <td>Yellow fever</td>\n",
              "      <td>296 (as of 31 December 2020)</td>\n",
              "      <td>2020</td>\n",
              "      <td>Nigeria</td>\n",
              "      <td>2020</td>\n",
              "      <td>None</td>\n",
              "    </tr>\n",
              "    <tr>\n",
              "      <th>268</th>\n",
              "      <td>2021 India black fungus epidemic</td>\n",
              "      <td>Black fungus (COVID-19 condition)</td>\n",
              "      <td>4332</td>\n",
              "      <td>2021-2022</td>\n",
              "      <td>India</td>\n",
              "      <td>2021-2022</td>\n",
              "      <td>None</td>\n",
              "    </tr>\n",
              "    <tr>\n",
              "      <th>269</th>\n",
              "      <td>2022 hepatitis of unknown origin in children</td>\n",
              "      <td>Hepatitis by Adenovirus variant AF41 (Unconfir...</td>\n",
              "      <td>18</td>\n",
              "      <td>2021–2022</td>\n",
              "      <td>Worldwide</td>\n",
              "      <td>2021</td>\n",
              "      <td>2022</td>\n",
              "    </tr>\n",
              "    <tr>\n",
              "      <th>270</th>\n",
              "      <td>2022–2023 monkeypox outbreak</td>\n",
              "      <td>Monkeypox virus</td>\n",
              "      <td>280</td>\n",
              "      <td>2022–present</td>\n",
              "      <td>Worldwide</td>\n",
              "      <td>2022</td>\n",
              "      <td>present</td>\n",
              "    </tr>\n",
              "    <tr>\n",
              "      <th>271</th>\n",
              "      <td>2022 Uganda Ebola outbreak</td>\n",
              "      <td>Sudan ebolavirus</td>\n",
              "      <td>77</td>\n",
              "      <td>2022–2023</td>\n",
              "      <td>Uganda</td>\n",
              "      <td>2022</td>\n",
              "      <td>2023</td>\n",
              "    </tr>\n",
              "  </tbody>\n",
              "</table>\n",
              "<p>272 rows × 7 columns</p>\n",
              "</div>\n",
              "      <button class=\"colab-df-convert\" onclick=\"convertToInteractive('df-903003e2-73e0-4412-aebe-85ab0dce8fe3')\"\n",
              "              title=\"Convert this dataframe to an interactive table.\"\n",
              "              style=\"display:none;\">\n",
              "        \n",
              "  <svg xmlns=\"http://www.w3.org/2000/svg\" height=\"24px\"viewBox=\"0 0 24 24\"\n",
              "       width=\"24px\">\n",
              "    <path d=\"M0 0h24v24H0V0z\" fill=\"none\"/>\n",
              "    <path d=\"M18.56 5.44l.94 2.06.94-2.06 2.06-.94-2.06-.94-.94-2.06-.94 2.06-2.06.94zm-11 1L8.5 8.5l.94-2.06 2.06-.94-2.06-.94L8.5 2.5l-.94 2.06-2.06.94zm10 10l.94 2.06.94-2.06 2.06-.94-2.06-.94-.94-2.06-.94 2.06-2.06.94z\"/><path d=\"M17.41 7.96l-1.37-1.37c-.4-.4-.92-.59-1.43-.59-.52 0-1.04.2-1.43.59L10.3 9.45l-7.72 7.72c-.78.78-.78 2.05 0 2.83L4 21.41c.39.39.9.59 1.41.59.51 0 1.02-.2 1.41-.59l7.78-7.78 2.81-2.81c.8-.78.8-2.07 0-2.86zM5.41 20L4 18.59l7.72-7.72 1.47 1.35L5.41 20z\"/>\n",
              "  </svg>\n",
              "      </button>\n",
              "      \n",
              "  <style>\n",
              "    .colab-df-container {\n",
              "      display:flex;\n",
              "      flex-wrap:wrap;\n",
              "      gap: 12px;\n",
              "    }\n",
              "\n",
              "    .colab-df-convert {\n",
              "      background-color: #E8F0FE;\n",
              "      border: none;\n",
              "      border-radius: 50%;\n",
              "      cursor: pointer;\n",
              "      display: none;\n",
              "      fill: #1967D2;\n",
              "      height: 32px;\n",
              "      padding: 0 0 0 0;\n",
              "      width: 32px;\n",
              "    }\n",
              "\n",
              "    .colab-df-convert:hover {\n",
              "      background-color: #E2EBFA;\n",
              "      box-shadow: 0px 1px 2px rgba(60, 64, 67, 0.3), 0px 1px 3px 1px rgba(60, 64, 67, 0.15);\n",
              "      fill: #174EA6;\n",
              "    }\n",
              "\n",
              "    [theme=dark] .colab-df-convert {\n",
              "      background-color: #3B4455;\n",
              "      fill: #D2E3FC;\n",
              "    }\n",
              "\n",
              "    [theme=dark] .colab-df-convert:hover {\n",
              "      background-color: #434B5C;\n",
              "      box-shadow: 0px 1px 3px 1px rgba(0, 0, 0, 0.15);\n",
              "      filter: drop-shadow(0px 1px 2px rgba(0, 0, 0, 0.3));\n",
              "      fill: #FFFFFF;\n",
              "    }\n",
              "  </style>\n",
              "\n",
              "      <script>\n",
              "        const buttonEl =\n",
              "          document.querySelector('#df-903003e2-73e0-4412-aebe-85ab0dce8fe3 button.colab-df-convert');\n",
              "        buttonEl.style.display =\n",
              "          google.colab.kernel.accessAllowed ? 'block' : 'none';\n",
              "\n",
              "        async function convertToInteractive(key) {\n",
              "          const element = document.querySelector('#df-903003e2-73e0-4412-aebe-85ab0dce8fe3');\n",
              "          const dataTable =\n",
              "            await google.colab.kernel.invokeFunction('convertToInteractive',\n",
              "                                                     [key], {});\n",
              "          if (!dataTable) return;\n",
              "\n",
              "          const docLinkHtml = 'Like what you see? Visit the ' +\n",
              "            '<a target=\"_blank\" href=https://colab.research.google.com/notebooks/data_table.ipynb>data table notebook</a>'\n",
              "            + ' to learn more about interactive tables.';\n",
              "          element.innerHTML = '';\n",
              "          dataTable['output_type'] = 'display_data';\n",
              "          await google.colab.output.renderOutput(dataTable, element);\n",
              "          const docLink = document.createElement('div');\n",
              "          docLink.innerHTML = docLinkHtml;\n",
              "          element.appendChild(docLink);\n",
              "        }\n",
              "      </script>\n",
              "    </div>\n",
              "  </div>\n",
              "  "
            ]
          },
          "metadata": {},
          "execution_count": 14
        }
      ]
    },
    {
      "cell_type": "code",
      "source": [
        "# verificando se tem nulls no dataset\n",
        "pandemic.isnull().sum()"
      ],
      "metadata": {
        "colab": {
          "base_uri": "https://localhost:8080/"
        },
        "id": "BGtvGnArP5HD",
        "outputId": "a7ecf46b-37a6-48da-a6e8-ebdf669d0269"
      },
      "execution_count": null,
      "outputs": [
        {
          "output_type": "execute_result",
          "data": {
            "text/plain": [
              "Epidemics/pandemics      0\n",
              "Disease                  0\n",
              "Death toll               0\n",
              "Date                     0\n",
              "Location                 0\n",
              "First Year               0\n",
              "Last Year              117\n",
              "dtype: int64"
            ]
          },
          "metadata": {},
          "execution_count": 15
        }
      ]
    },
    {
      "cell_type": "markdown",
      "source": [
        "**Observação:**\n",
        "\n",
        "De 272 instâncias, 117 apresentam valores nulos no campo \"Last Year\""
      ],
      "metadata": {
        "id": "PxvuyH96FoH5"
      }
    },
    {
      "cell_type": "code",
      "source": [
        "# Visualizando os diferentes valores para anos iniciais\n",
        "pandemic['First Year'].unique()"
      ],
      "metadata": {
        "colab": {
          "base_uri": "https://localhost:8080/"
        },
        "id": "AM3l0gm6Tjao",
        "outputId": "d02cfad0-b56b-4e9e-ae8b-a3be96126ddd"
      },
      "execution_count": null,
      "outputs": [
        {
          "output_type": "execute_result",
          "data": {
            "text/plain": [
              "array(['1346', '1918', '541', '1981', '2019[c]', '1855', '1545', '165',\n",
              "       '1519', '1957', '1968', '1576', '735', '1772', '1656', '1846',\n",
              "       '1629', '1889−1890', '1350 BC', '430', '412 BC', '217', '249',\n",
              "       '590', '627', '638', '664', '698', '746', '1485', '1489', '1510',\n",
              "       '1557', '1561', '1563', '1582', '1592', '1596', '1600', '1603',\n",
              "       '1616', '1632', '1633', '1634', '1636', '1647', '1648', '1663',\n",
              "       '1665', '1668', '1675', '1676', '1677', '1679', '1681', '1687',\n",
              "       '1693', '1699', '1702', '1707', '1710', '1713', '1720', '1721',\n",
              "       '1730', '1732', '1733', '1735', '1738', '1741', '1743', '1759',\n",
              "       '1760', '1762', '1763', '1770', '1775', '1778', '1788', '1789',\n",
              "       '1793', '1800', '1801', '1802', '1812', '1813', '1817', '1820',\n",
              "       '1821', '1826', '1828', '1829', '1834', '1837', '1841', '1847',\n",
              "       '1848', '1853', '1854', '1857', '1862', '1861', '1863', '1867',\n",
              "       '1871', '1870', '1875', '1876', '1878', '1881', '1885', '1889',\n",
              "       '1894', '1896', '1899', '1900', '1901', '1903', '1906', '1910',\n",
              "       '1915', '1916', '1924', '1927', '1929', '1937', '1940', '1942',\n",
              "       '1946', '1947', '1948', '1960', '1961', '1971', '1972', '1973',\n",
              "       '1974', '1977', '1979', '1984', '1986', '1987', '1988', '1991',\n",
              "       '1994', '1996', '1998', '2000', '2001', '2002', '2003', '2004',\n",
              "       '2005', '2006', '2007', '2008', '2009', '2010', '2011', '2012',\n",
              "       '2013', '2014', '2015', '2016', '2017', '2018', '2019', '2020',\n",
              "       '2021-2022', '2021', '2022'], dtype=object)"
            ]
          },
          "metadata": {},
          "execution_count": 16
        }
      ]
    },
    {
      "cell_type": "code",
      "source": [
        "# Agora vou corrigir os anos que apresentem alguma informação extra e estão\n",
        "# classificados como string por isso.\n",
        "\n",
        "pandemic['First Year'] = pandemic['First Year'].replace('2019[c]','2019')\n",
        "pandemic['First Year'] = pandemic['First Year'].replace('1889−1890','1889')\n",
        "pandemic['First Year'] = pandemic['First Year'].replace('2021-2022','2021')\n",
        "\n",
        "pandemic.head(20)"
      ],
      "metadata": {
        "colab": {
          "base_uri": "https://localhost:8080/",
          "height": 677
        },
        "id": "oJkUKpYgh6q-",
        "outputId": "c752be16-c545-4e6c-b18b-4c939c48d15e"
      },
      "execution_count": null,
      "outputs": [
        {
          "output_type": "execute_result",
          "data": {
            "text/plain": [
              "                   Epidemics/pandemics  \\\n",
              "0                          Black Death   \n",
              "1                          Spanish flu   \n",
              "2                  Plague of Justinian   \n",
              "3                    HIV/AIDS epidemic   \n",
              "4                    COVID-19 pandemic   \n",
              "5                Third plague pandemic   \n",
              "6     Cocoliztli epidemic of 1545–1548   \n",
              "7                      Antonine Plague   \n",
              "8        1520 Mexico smallpox epidemic   \n",
              "9     1918–1922 Russia typhus epidemic   \n",
              "10        1957–1958 influenza pandemic   \n",
              "11                       Hong Kong flu   \n",
              "12         Cocoliztli epidemic of 1576   \n",
              "13  735–737 Japanese smallpox epidemic   \n",
              "14            1772–1773 Persian Plague   \n",
              "15                       Naples Plague   \n",
              "16          1846–1860 cholera pandemic   \n",
              "17            1629–1631 Italian plague   \n",
              "18              1889–1890 flu pandemic   \n",
              "19           1350 BC plague of Megiddo   \n",
              "\n",
              "                                              Disease  \\\n",
              "0                                      Bubonic plague   \n",
              "1                                    Influenza A/H1N1   \n",
              "2                                      Bubonic plague   \n",
              "3                                            HIV/AIDS   \n",
              "4                                            COVID-19   \n",
              "5                                      Bubonic plague   \n",
              "6                                          Cocoliztli   \n",
              "7                                 Smallpox or measles   \n",
              "8                                            Smallpox   \n",
              "9                                              Typhus   \n",
              "10                                   Influenza A/H2N2   \n",
              "11                                   Influenza A/H3N2   \n",
              "12                                         Cocoliztli   \n",
              "13                                           Smallpox   \n",
              "14                                     Bubonic plague   \n",
              "15                                     Bubonic plague   \n",
              "16                                            Cholera   \n",
              "17                                     Bubonic plague   \n",
              "18                       Influenza (disputed)[13][14]   \n",
              "19  Amarna letters EA 244, Biridiya, mayor of Megi...   \n",
              "\n",
              "                             Death toll                          Date  \\\n",
              "0                        75–200 million                     1346–1353   \n",
              "1                        17–100 million                     1918–1920   \n",
              "2                        15–100 million                       541–549   \n",
              "3              40.1 million (as of 2021                  1981–present   \n",
              "4   7–28.3 million (as of December 2022               2019[c]–present   \n",
              "5                         12–15 million                     1855–1960   \n",
              "6                          5–15 million                     1545–1548   \n",
              "7                          5–10 million  165–180 (possibly up to 190)   \n",
              "8                           5–8 million                     1519–1520   \n",
              "9                           2–3 million                     1918–1922   \n",
              "10                          1–4 million                     1957–1958   \n",
              "11                          1–4 million                     1968–1969   \n",
              "12                        2–2.5 million                     1576–1580   \n",
              "13                            2 million                       735–737   \n",
              "14                            2 million                     1772–1773   \n",
              "15                         1.25 million                     1656–1658   \n",
              "16                           1 million+                     1846–1860   \n",
              "17                            1 million                     1629–1631   \n",
              "18                            1 million                     1889−1890   \n",
              "19                              Unknown                       1350 BC   \n",
              "\n",
              "                                 Location First Year                 Last Year  \n",
              "0          Europe, Asia, and North Africa       1346                      1353  \n",
              "1                               Worldwide       1918                      1920  \n",
              "2   North Africa, Europe and Western Asia        541                       549  \n",
              "3                               Worldwide       1981                   present  \n",
              "4                               Worldwide       2019                   present  \n",
              "5                               Worldwide       1855                      1960  \n",
              "6                                  Mexico       1545                      1548  \n",
              "7                            Roman Empire        165  180 (possibly up to 190)  \n",
              "8                                  Mexico       1519                      1520  \n",
              "9                                  Russia       1918                      1922  \n",
              "10                              Worldwide       1957                      1958  \n",
              "11                              Worldwide       1968                      1969  \n",
              "12                                 Mexico       1576                      1580  \n",
              "13                                  Japan        735                       737  \n",
              "14                                 Persia       1772                      1773  \n",
              "15                         Southern Italy       1656                      1658  \n",
              "16                              Worldwide       1846                      1860  \n",
              "17                                  Italy       1629                      1631  \n",
              "18                                      –       1889                      None  \n",
              "19                Megiddo, land of Canaan    1350 BC                      None  "
            ],
            "text/html": [
              "\n",
              "  <div id=\"df-a46b882f-c5a6-4275-ae91-00890e162130\">\n",
              "    <div class=\"colab-df-container\">\n",
              "      <div>\n",
              "<style scoped>\n",
              "    .dataframe tbody tr th:only-of-type {\n",
              "        vertical-align: middle;\n",
              "    }\n",
              "\n",
              "    .dataframe tbody tr th {\n",
              "        vertical-align: top;\n",
              "    }\n",
              "\n",
              "    .dataframe thead th {\n",
              "        text-align: right;\n",
              "    }\n",
              "</style>\n",
              "<table border=\"1\" class=\"dataframe\">\n",
              "  <thead>\n",
              "    <tr style=\"text-align: right;\">\n",
              "      <th></th>\n",
              "      <th>Epidemics/pandemics</th>\n",
              "      <th>Disease</th>\n",
              "      <th>Death toll</th>\n",
              "      <th>Date</th>\n",
              "      <th>Location</th>\n",
              "      <th>First Year</th>\n",
              "      <th>Last Year</th>\n",
              "    </tr>\n",
              "  </thead>\n",
              "  <tbody>\n",
              "    <tr>\n",
              "      <th>0</th>\n",
              "      <td>Black Death</td>\n",
              "      <td>Bubonic plague</td>\n",
              "      <td>75–200 million</td>\n",
              "      <td>1346–1353</td>\n",
              "      <td>Europe, Asia, and North Africa</td>\n",
              "      <td>1346</td>\n",
              "      <td>1353</td>\n",
              "    </tr>\n",
              "    <tr>\n",
              "      <th>1</th>\n",
              "      <td>Spanish flu</td>\n",
              "      <td>Influenza A/H1N1</td>\n",
              "      <td>17–100 million</td>\n",
              "      <td>1918–1920</td>\n",
              "      <td>Worldwide</td>\n",
              "      <td>1918</td>\n",
              "      <td>1920</td>\n",
              "    </tr>\n",
              "    <tr>\n",
              "      <th>2</th>\n",
              "      <td>Plague of Justinian</td>\n",
              "      <td>Bubonic plague</td>\n",
              "      <td>15–100 million</td>\n",
              "      <td>541–549</td>\n",
              "      <td>North Africa, Europe and Western Asia</td>\n",
              "      <td>541</td>\n",
              "      <td>549</td>\n",
              "    </tr>\n",
              "    <tr>\n",
              "      <th>3</th>\n",
              "      <td>HIV/AIDS epidemic</td>\n",
              "      <td>HIV/AIDS</td>\n",
              "      <td>40.1 million (as of 2021</td>\n",
              "      <td>1981–present</td>\n",
              "      <td>Worldwide</td>\n",
              "      <td>1981</td>\n",
              "      <td>present</td>\n",
              "    </tr>\n",
              "    <tr>\n",
              "      <th>4</th>\n",
              "      <td>COVID-19 pandemic</td>\n",
              "      <td>COVID-19</td>\n",
              "      <td>7–28.3 million (as of December 2022</td>\n",
              "      <td>2019[c]–present</td>\n",
              "      <td>Worldwide</td>\n",
              "      <td>2019</td>\n",
              "      <td>present</td>\n",
              "    </tr>\n",
              "    <tr>\n",
              "      <th>5</th>\n",
              "      <td>Third plague pandemic</td>\n",
              "      <td>Bubonic plague</td>\n",
              "      <td>12–15 million</td>\n",
              "      <td>1855–1960</td>\n",
              "      <td>Worldwide</td>\n",
              "      <td>1855</td>\n",
              "      <td>1960</td>\n",
              "    </tr>\n",
              "    <tr>\n",
              "      <th>6</th>\n",
              "      <td>Cocoliztli epidemic of 1545–1548</td>\n",
              "      <td>Cocoliztli</td>\n",
              "      <td>5–15 million</td>\n",
              "      <td>1545–1548</td>\n",
              "      <td>Mexico</td>\n",
              "      <td>1545</td>\n",
              "      <td>1548</td>\n",
              "    </tr>\n",
              "    <tr>\n",
              "      <th>7</th>\n",
              "      <td>Antonine Plague</td>\n",
              "      <td>Smallpox or measles</td>\n",
              "      <td>5–10 million</td>\n",
              "      <td>165–180 (possibly up to 190)</td>\n",
              "      <td>Roman Empire</td>\n",
              "      <td>165</td>\n",
              "      <td>180 (possibly up to 190)</td>\n",
              "    </tr>\n",
              "    <tr>\n",
              "      <th>8</th>\n",
              "      <td>1520 Mexico smallpox epidemic</td>\n",
              "      <td>Smallpox</td>\n",
              "      <td>5–8 million</td>\n",
              "      <td>1519–1520</td>\n",
              "      <td>Mexico</td>\n",
              "      <td>1519</td>\n",
              "      <td>1520</td>\n",
              "    </tr>\n",
              "    <tr>\n",
              "      <th>9</th>\n",
              "      <td>1918–1922 Russia typhus epidemic</td>\n",
              "      <td>Typhus</td>\n",
              "      <td>2–3 million</td>\n",
              "      <td>1918–1922</td>\n",
              "      <td>Russia</td>\n",
              "      <td>1918</td>\n",
              "      <td>1922</td>\n",
              "    </tr>\n",
              "    <tr>\n",
              "      <th>10</th>\n",
              "      <td>1957–1958 influenza pandemic</td>\n",
              "      <td>Influenza A/H2N2</td>\n",
              "      <td>1–4 million</td>\n",
              "      <td>1957–1958</td>\n",
              "      <td>Worldwide</td>\n",
              "      <td>1957</td>\n",
              "      <td>1958</td>\n",
              "    </tr>\n",
              "    <tr>\n",
              "      <th>11</th>\n",
              "      <td>Hong Kong flu</td>\n",
              "      <td>Influenza A/H3N2</td>\n",
              "      <td>1–4 million</td>\n",
              "      <td>1968–1969</td>\n",
              "      <td>Worldwide</td>\n",
              "      <td>1968</td>\n",
              "      <td>1969</td>\n",
              "    </tr>\n",
              "    <tr>\n",
              "      <th>12</th>\n",
              "      <td>Cocoliztli epidemic of 1576</td>\n",
              "      <td>Cocoliztli</td>\n",
              "      <td>2–2.5 million</td>\n",
              "      <td>1576–1580</td>\n",
              "      <td>Mexico</td>\n",
              "      <td>1576</td>\n",
              "      <td>1580</td>\n",
              "    </tr>\n",
              "    <tr>\n",
              "      <th>13</th>\n",
              "      <td>735–737 Japanese smallpox epidemic</td>\n",
              "      <td>Smallpox</td>\n",
              "      <td>2 million</td>\n",
              "      <td>735–737</td>\n",
              "      <td>Japan</td>\n",
              "      <td>735</td>\n",
              "      <td>737</td>\n",
              "    </tr>\n",
              "    <tr>\n",
              "      <th>14</th>\n",
              "      <td>1772–1773 Persian Plague</td>\n",
              "      <td>Bubonic plague</td>\n",
              "      <td>2 million</td>\n",
              "      <td>1772–1773</td>\n",
              "      <td>Persia</td>\n",
              "      <td>1772</td>\n",
              "      <td>1773</td>\n",
              "    </tr>\n",
              "    <tr>\n",
              "      <th>15</th>\n",
              "      <td>Naples Plague</td>\n",
              "      <td>Bubonic plague</td>\n",
              "      <td>1.25 million</td>\n",
              "      <td>1656–1658</td>\n",
              "      <td>Southern Italy</td>\n",
              "      <td>1656</td>\n",
              "      <td>1658</td>\n",
              "    </tr>\n",
              "    <tr>\n",
              "      <th>16</th>\n",
              "      <td>1846–1860 cholera pandemic</td>\n",
              "      <td>Cholera</td>\n",
              "      <td>1 million+</td>\n",
              "      <td>1846–1860</td>\n",
              "      <td>Worldwide</td>\n",
              "      <td>1846</td>\n",
              "      <td>1860</td>\n",
              "    </tr>\n",
              "    <tr>\n",
              "      <th>17</th>\n",
              "      <td>1629–1631 Italian plague</td>\n",
              "      <td>Bubonic plague</td>\n",
              "      <td>1 million</td>\n",
              "      <td>1629–1631</td>\n",
              "      <td>Italy</td>\n",
              "      <td>1629</td>\n",
              "      <td>1631</td>\n",
              "    </tr>\n",
              "    <tr>\n",
              "      <th>18</th>\n",
              "      <td>1889–1890 flu pandemic</td>\n",
              "      <td>Influenza (disputed)[13][14]</td>\n",
              "      <td>1 million</td>\n",
              "      <td>1889−1890</td>\n",
              "      <td>–</td>\n",
              "      <td>1889</td>\n",
              "      <td>None</td>\n",
              "    </tr>\n",
              "    <tr>\n",
              "      <th>19</th>\n",
              "      <td>1350 BC plague of Megiddo</td>\n",
              "      <td>Amarna letters EA 244, Biridiya, mayor of Megi...</td>\n",
              "      <td>Unknown</td>\n",
              "      <td>1350 BC</td>\n",
              "      <td>Megiddo, land of Canaan</td>\n",
              "      <td>1350 BC</td>\n",
              "      <td>None</td>\n",
              "    </tr>\n",
              "  </tbody>\n",
              "</table>\n",
              "</div>\n",
              "      <button class=\"colab-df-convert\" onclick=\"convertToInteractive('df-a46b882f-c5a6-4275-ae91-00890e162130')\"\n",
              "              title=\"Convert this dataframe to an interactive table.\"\n",
              "              style=\"display:none;\">\n",
              "        \n",
              "  <svg xmlns=\"http://www.w3.org/2000/svg\" height=\"24px\"viewBox=\"0 0 24 24\"\n",
              "       width=\"24px\">\n",
              "    <path d=\"M0 0h24v24H0V0z\" fill=\"none\"/>\n",
              "    <path d=\"M18.56 5.44l.94 2.06.94-2.06 2.06-.94-2.06-.94-.94-2.06-.94 2.06-2.06.94zm-11 1L8.5 8.5l.94-2.06 2.06-.94-2.06-.94L8.5 2.5l-.94 2.06-2.06.94zm10 10l.94 2.06.94-2.06 2.06-.94-2.06-.94-.94-2.06-.94 2.06-2.06.94z\"/><path d=\"M17.41 7.96l-1.37-1.37c-.4-.4-.92-.59-1.43-.59-.52 0-1.04.2-1.43.59L10.3 9.45l-7.72 7.72c-.78.78-.78 2.05 0 2.83L4 21.41c.39.39.9.59 1.41.59.51 0 1.02-.2 1.41-.59l7.78-7.78 2.81-2.81c.8-.78.8-2.07 0-2.86zM5.41 20L4 18.59l7.72-7.72 1.47 1.35L5.41 20z\"/>\n",
              "  </svg>\n",
              "      </button>\n",
              "      \n",
              "  <style>\n",
              "    .colab-df-container {\n",
              "      display:flex;\n",
              "      flex-wrap:wrap;\n",
              "      gap: 12px;\n",
              "    }\n",
              "\n",
              "    .colab-df-convert {\n",
              "      background-color: #E8F0FE;\n",
              "      border: none;\n",
              "      border-radius: 50%;\n",
              "      cursor: pointer;\n",
              "      display: none;\n",
              "      fill: #1967D2;\n",
              "      height: 32px;\n",
              "      padding: 0 0 0 0;\n",
              "      width: 32px;\n",
              "    }\n",
              "\n",
              "    .colab-df-convert:hover {\n",
              "      background-color: #E2EBFA;\n",
              "      box-shadow: 0px 1px 2px rgba(60, 64, 67, 0.3), 0px 1px 3px 1px rgba(60, 64, 67, 0.15);\n",
              "      fill: #174EA6;\n",
              "    }\n",
              "\n",
              "    [theme=dark] .colab-df-convert {\n",
              "      background-color: #3B4455;\n",
              "      fill: #D2E3FC;\n",
              "    }\n",
              "\n",
              "    [theme=dark] .colab-df-convert:hover {\n",
              "      background-color: #434B5C;\n",
              "      box-shadow: 0px 1px 3px 1px rgba(0, 0, 0, 0.15);\n",
              "      filter: drop-shadow(0px 1px 2px rgba(0, 0, 0, 0.3));\n",
              "      fill: #FFFFFF;\n",
              "    }\n",
              "  </style>\n",
              "\n",
              "      <script>\n",
              "        const buttonEl =\n",
              "          document.querySelector('#df-a46b882f-c5a6-4275-ae91-00890e162130 button.colab-df-convert');\n",
              "        buttonEl.style.display =\n",
              "          google.colab.kernel.accessAllowed ? 'block' : 'none';\n",
              "\n",
              "        async function convertToInteractive(key) {\n",
              "          const element = document.querySelector('#df-a46b882f-c5a6-4275-ae91-00890e162130');\n",
              "          const dataTable =\n",
              "            await google.colab.kernel.invokeFunction('convertToInteractive',\n",
              "                                                     [key], {});\n",
              "          if (!dataTable) return;\n",
              "\n",
              "          const docLinkHtml = 'Like what you see? Visit the ' +\n",
              "            '<a target=\"_blank\" href=https://colab.research.google.com/notebooks/data_table.ipynb>data table notebook</a>'\n",
              "            + ' to learn more about interactive tables.';\n",
              "          element.innerHTML = '';\n",
              "          dataTable['output_type'] = 'display_data';\n",
              "          await google.colab.output.renderOutput(dataTable, element);\n",
              "          const docLink = document.createElement('div');\n",
              "          docLink.innerHTML = docLinkHtml;\n",
              "          element.appendChild(docLink);\n",
              "        }\n",
              "      </script>\n",
              "    </div>\n",
              "  </div>\n",
              "  "
            ]
          },
          "metadata": {},
          "execution_count": 17
        }
      ]
    },
    {
      "cell_type": "code",
      "source": [
        "# Percebemos que algumas datas são de períodos anteriores ao ano 1 do calendário\n",
        "# Gregoriano. Primeiro vou excluir estes anos da análise e concentrar apenas nos\n",
        "# ocorridos nos últimos 2023 anos.\n",
        "\n",
        "str.pandemic['First Year'].map('1350 BC')\n",
        "    \n",
        "\n",
        "TypeError: 'str' object is not callable\n",
        "\n",
        "\n"
      ],
      "metadata": {
        "id": "41Uz91DpdPdV",
        "colab": {
          "base_uri": "https://localhost:8080/",
          "height": 235
        },
        "outputId": "2ca6eace-8d08-4f5e-d8bc-63f73dc336be"
      },
      "execution_count": null,
      "outputs": [
        {
          "output_type": "error",
          "ename": "AttributeError",
          "evalue": "ignored",
          "traceback": [
            "\u001b[0;31m---------------------------------------------------------------------------\u001b[0m",
            "\u001b[0;31mAttributeError\u001b[0m                            Traceback (most recent call last)",
            "\u001b[0;32m<ipython-input-23-7fbdca1fab4e>\u001b[0m in \u001b[0;36m<cell line: 5>\u001b[0;34m()\u001b[0m\n\u001b[1;32m      3\u001b[0m \u001b[0;31m# ocorridos nos últimos 2023 anos.\u001b[0m\u001b[0;34m\u001b[0m\u001b[0;34m\u001b[0m\u001b[0m\n\u001b[1;32m      4\u001b[0m \u001b[0;34m\u001b[0m\u001b[0m\n\u001b[0;32m----> 5\u001b[0;31m \u001b[0mstr\u001b[0m\u001b[0;34m.\u001b[0m\u001b[0mpandemic\u001b[0m\u001b[0;34m[\u001b[0m\u001b[0;34m'First Year'\u001b[0m\u001b[0;34m]\u001b[0m\u001b[0;34m.\u001b[0m\u001b[0mmap\u001b[0m\u001b[0;34m(\u001b[0m\u001b[0;34m'1350 BC'\u001b[0m\u001b[0;34m)\u001b[0m\u001b[0;34m\u001b[0m\u001b[0;34m\u001b[0m\u001b[0m\n\u001b[0m\u001b[1;32m      6\u001b[0m \u001b[0;34m\u001b[0m\u001b[0m\n\u001b[1;32m      7\u001b[0m \u001b[0;34m\u001b[0m\u001b[0m\n",
            "\u001b[0;31mAttributeError\u001b[0m: type object 'str' has no attribute 'pandemic'"
          ]
        }
      ]
    },
    {
      "cell_type": "code",
      "source": [
        "# Visualizando os diferentes valores para anos iniciais\n",
        "pandemic.head(20)"
      ],
      "metadata": {
        "id": "auo5npdViMsv"
      },
      "execution_count": null,
      "outputs": []
    },
    {
      "cell_type": "markdown",
      "source": [
        "### **4.2 Análise descritiva**\n",
        "\n",
        "A análise descritiva busca entender os parâmetros gerais e tentar identificar os pontos que precisam ser corrigidos."
      ],
      "metadata": {
        "id": "6l7gebD78DMA"
      }
    },
    {
      "cell_type": "code",
      "source": [
        "# Função Pivot retorna agrupando todas as informações de um mesmo tipo e contabilizando elas\n",
        "\n",
        "df.pivot(index='Class',columns='Section',values='Gr')"
      ],
      "metadata": {
        "id": "IykSbMVUmbaP"
      },
      "execution_count": null,
      "outputs": []
    },
    {
      "cell_type": "code",
      "source": [
        "# Resumo estatístico dos atributos com valor numérico.\n",
        "\n",
        "pandemic.describe()"
      ],
      "metadata": {
        "id": "iQUCQsyhMcbW"
      },
      "execution_count": null,
      "outputs": []
    },
    {
      "cell_type": "markdown",
      "source": [
        "Separando as features para análise"
      ],
      "metadata": {
        "id": "nGZpO2mIFpzU"
      }
    },
    {
      "cell_type": "markdown",
      "source": [
        "Informações do novo dataset\n"
      ],
      "metadata": {
        "id": "x_FaEetMFs0A"
      }
    },
    {
      "cell_type": "markdown",
      "source": [
        "### **4.3. Resumo estatístico**"
      ],
      "metadata": {
        "id": "MNT_iixJF0CB"
      }
    },
    {
      "cell_type": "markdown",
      "source": [
        "Distribuição de num"
      ],
      "metadata": {
        "id": "sBdSPGI2F5Uh"
      }
    },
    {
      "cell_type": "markdown",
      "source": [
        "Visualizações Unimodais"
      ],
      "metadata": {
        "id": "vSNZI8BeF86a"
      }
    },
    {
      "cell_type": "markdown",
      "source": [
        "Densidade das distribuições"
      ],
      "metadata": {
        "id": "JX8UOW2hF_iH"
      }
    },
    {
      "cell_type": "markdown",
      "source": [
        "BoxPlots"
      ],
      "metadata": {
        "id": "c8R59-mfGCUl"
      }
    },
    {
      "cell_type": "markdown",
      "source": [
        "### **4.3.Visualizações multimodais**"
      ],
      "metadata": {
        "id": "KiMww9hjGG2-"
      }
    },
    {
      "cell_type": "markdown",
      "source": [
        "Pair plot\n",
        "\n",
        "Exemplo\n",
        "\n",
        "df_reseted_indexes = df_feats.reset_index()\n",
        "\n",
        "sns.pairplot(df_reseted_indexes)"
      ],
      "metadata": {
        "id": "VozvcLcTGMgf"
      }
    },
    {
      "cell_type": "markdown",
      "source": [
        "## **5. Pré-processamento**"
      ],
      "metadata": {
        "id": "RyDU8maTGOfQ"
      }
    },
    {
      "cell_type": "markdown",
      "source": [
        "### **5.1 Tratamento de missings**\n",
        "\n",
        "ms.matrix(datasetSemMissings)"
      ],
      "metadata": {
        "id": "XPnKx3VPGVxG"
      }
    },
    {
      "cell_type": "code",
      "source": [
        "pandemic.isnull().sum()"
      ],
      "metadata": {
        "id": "TkUP64niOqtW"
      },
      "execution_count": null,
      "outputs": []
    },
    {
      "cell_type": "code",
      "source": [
        "# salvando um novo dataset para tratamento de missings\n",
        "# recuperando os nomes das colunas\n",
        "col = list(pandemic.columns)\n",
        "\n",
        "# o novo dataset irá conter todas as colunas do dataset original\n",
        "pandemic_sem_missings = pandemic[col[:]]\n",
        "\n",
        "#substituindo os zeros por NaN\n",
        "pandemic_sem_missings.replace(0, np.nan, inplace=True)\n",
        "\n",
        "#exibindo visualização matricial da nulidade do dataset\n",
        "ms.matrix(pandemic_sem_missings)"
      ],
      "metadata": {
        "id": "M896s4gdPJ4d"
      },
      "execution_count": null,
      "outputs": []
    },
    {
      "cell_type": "code",
      "source": [
        "filtro  = tips['size'] > 1"
      ],
      "metadata": {
        "id": "XaKQqEs_nWfm"
      },
      "execution_count": null,
      "outputs": []
    },
    {
      "cell_type": "code",
      "source": [
        "# Visualizando dados únicos dos últimos anos\n",
        "\n",
        "pandemic['Last Year'].unique()"
      ],
      "metadata": {
        "id": "GA3egLIpUGNT"
      },
      "execution_count": null,
      "outputs": []
    },
    {
      "cell_type": "code",
      "source": [
        "# Vou substituir a informação \"present\" pelo ano atual.\n",
        "\n",
        "pandemic['Last Year'] = pandemic['Last Year'].replace('present','2023')"
      ],
      "metadata": {
        "id": "5shtbURSq5QU"
      },
      "execution_count": null,
      "outputs": []
    },
    {
      "cell_type": "code",
      "source": [
        "pandemic['Disease'].unique()"
      ],
      "metadata": {
        "id": "0dfmALRsUmMF"
      },
      "execution_count": null,
      "outputs": []
    },
    {
      "cell_type": "code",
      "source": [
        "pandemic[]= data[\"Age\"].replace(25.0, \"Twenty five\")"
      ],
      "metadata": {
        "id": "3JoagPytRa9d"
      },
      "execution_count": null,
      "outputs": []
    },
    {
      "cell_type": "markdown",
      "source": [
        "Backup do dataset"
      ],
      "metadata": {
        "id": "N73CiNF6GdkU"
      }
    },
    {
      "cell_type": "markdown",
      "source": [
        "Tratando as Missings"
      ],
      "metadata": {
        "id": "wxlW0O2yGisN"
      }
    },
    {
      "cell_type": "markdown",
      "source": [],
      "metadata": {
        "id": "tjh6LupHSUct"
      }
    },
    {
      "cell_type": "code",
      "source": [
        "current_time = datetime.datetime.now()\n",
        "pandemic_sem_missings = pandemic_sem_missings['Ano final'].replace('present', current_time.year)\n",
        "pandemic_sem_missings.head(20)"
      ],
      "metadata": {
        "id": "gF00Riy3SYjW"
      },
      "execution_count": null,
      "outputs": []
    },
    {
      "cell_type": "code",
      "source": [
        "df['End Date']=df['End Date'].replace(\"present\",\"2023\")\n",
        "df"
      ],
      "metadata": {
        "id": "3f8v5IyYSU0H"
      },
      "execution_count": null,
      "outputs": []
    },
    {
      "cell_type": "markdown",
      "source": [
        "### **5.2 Separação do conjunto de treino e conjunto de teste**"
      ],
      "metadata": {
        "id": "VNM5e6K4Gs4s"
      }
    },
    {
      "cell_type": "markdown",
      "source": [
        "### **5.3 Normalização e Padronização**"
      ],
      "metadata": {
        "id": "b8mdYQ3mGyNy"
      }
    },
    {
      "cell_type": "markdown",
      "source": [
        "Quando normalizar e quando padronizar?\n",
        "Se a distribuição é normal, padronize. Caso contrário, normalize.\n",
        "\n",
        "Os problemas de modelagem preditiva são muitas vezes complexos, não sendo clara a melhor transformação para realizar. Na dúvida, use a normalização. Se tiver tempo, explore os modelos com os dados sem transformação, com a padronização e com a normalização e veja se os resultados são significativamente diferentes e se o custo x benefício vale a pena.\n",
        "\n",
        "Como a padronização resulta em valores positivos e negativos, pode ser interessante normalizar os dados após a padronização.\n",
        "\n",
        "É possível definir os valores de mínimo e máximo de acordo com o conhecimento no negócio (e não simplesmente se ater aos valores observados)."
      ],
      "metadata": {
        "id": "gxxpR2-jN53B"
      }
    },
    {
      "cell_type": "code",
      "source": [
        "# dados que iremos usar nos exemplos\n",
        "data = np.asarray([[100, 0.001],\n",
        "                   [8,   0.05],\n",
        "                   [50,  0.005],\n",
        "                   [88,  0.07],\n",
        "                   [4,   0.1]])\n",
        "print(data)"
      ],
      "metadata": {
        "id": "2JeaSzZ46yr3"
      },
      "execution_count": null,
      "outputs": []
    },
    {
      "cell_type": "code",
      "source": [
        "# Normalização\n",
        "\n",
        "# Definindo o transformador como min max scaler\n",
        "scaler = MinMaxScaler()\n",
        "\n",
        "# transformando os dados\n",
        "scaled = scaler.fit_transform(data)\n",
        "print(scaled)"
      ],
      "metadata": {
        "id": "gAPOJenIOAX-"
      },
      "execution_count": null,
      "outputs": []
    },
    {
      "cell_type": "code",
      "source": [
        "# Padronização \n",
        "\n",
        "# definindo o transformador como standard scaler\n",
        "scaler = StandardScaler()\n",
        "\n",
        "# transformando os dados\n",
        "scaled = scaler.fit_transform(data)\n",
        "print(scaled)"
      ],
      "metadata": {
        "id": "unrdIjNuOCoL"
      },
      "execution_count": null,
      "outputs": []
    },
    {
      "cell_type": "code",
      "source": [
        "# definindo o transformador como one hot encoding\n",
        "encoder = OneHotEncoder(sparse=False)\n",
        "\n",
        "# transformando os dados\n",
        "onehot = encoder.fit_transform(data)\n",
        "print(onehot)"
      ],
      "metadata": {
        "id": "MRKq6TRDOGak"
      },
      "execution_count": null,
      "outputs": []
    },
    {
      "cell_type": "code",
      "source": [
        "# Dummy encoding - definindo o transformador como hot encoding \n",
        "# (com dummy variable encoder)\n",
        "encoder = OneHotEncoder(drop='first', sparse_output=False)\n",
        "\n",
        "#transformando os dados\n",
        "dummy = encoder.fit_transform(data)\n",
        "print(dummy)"
      ],
      "metadata": {
        "id": "e5NGb88BOIlT"
      },
      "execution_count": null,
      "outputs": []
    },
    {
      "cell_type": "markdown",
      "source": [
        "# **Series e Index**\n",
        "\n",
        "Nesta aula, aprendemos:\n",
        "\n",
        "Como selecionar uma variável do dataframe (por exemplo, dados['Tipo'] ou dados.Tipo)\n",
        "Que um dataframe é composto de vários Series\n",
        "Como eliminar duplicatas (pelo método drop_duplicates())\n",
        "Como redefinir o index de um dataframe e series (atributo index)\n",
        "Como concatenar dataframes (lembrando do axis)\n",
        "Como criar novos dataframes baseados em estruturas de dados Python (lista, dicionários ou tuples)\n",
        "Na próxima aula vamos aprender como filtrar os nossos dados! Pronto para continuar?"
      ],
      "metadata": {
        "id": "4xIS6vg-WPP5"
      }
    },
    {
      "cell_type": "markdown",
      "source": [
        "# **Isin / sort_index/ sort_values**\n",
        "\n",
        "Nesta aula, vimos como:\n",
        "\n",
        "Criar uma Series booleana usando o método isin(..) a partir do dataframe\n",
        "Filtrar os dados de um dataframe baseado na Series booleana\n",
        "Exportar e gravar os dados do dataframe (método to_csv())\n",
        "Ordenar os dados de um dataframe (métodos sort_values() e sort_index())"
      ],
      "metadata": {
        "id": "B9j2K7U8rHSB"
      }
    },
    {
      "cell_type": "markdown",
      "source": [
        "## OR AND Idex Seleção \n",
        "\n",
        "Nesta aula, aprendemos:\n",
        "\n",
        "Formas de seleção e frequências\n",
        "Seleção com a condição OR (|)\n",
        "Seleção com a condição AND (&)\n",
        "Como criar um Index com split()\n",
        "Seleção por linha e coluna em um dataframe:\n",
        "Utilizando os índices numéricos e os rótulos das linhas\n",
        "\n",
        "selecao = (alunos.Aprovado == True) & (alunos.Sexo == 'F')\n",
        "aprovadas = alunos[selecao]\n",
        "aprovadas\n",
        "\n",
        "selecao = alunos['Aprovado'] == False\n",
        "reprovados = alunos[['Nome', 'Sexo', 'Idade']][selecao]\n",
        "reprovados"
      ],
      "metadata": {
        "id": "YtsMPIkr_869"
      }
    },
    {
      "cell_type": "code",
      "source": [],
      "metadata": {
        "id": "Mb5u2sxrrWHB"
      },
      "execution_count": null,
      "outputs": []
    }
  ]
}
